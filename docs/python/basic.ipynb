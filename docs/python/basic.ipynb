{
  "cells": [
    {
      "cell_type": "markdown",
      "metadata": {},
      "source": [
        "# Python 入門 – 基礎文法\n",
        "\n",
        "[![](https://colab.research.google.com/assets/colab-badge.svg)](https://colab.research.google.com/github/is-isee/training_course/blob/main/docs/python/basic.ipynb)\n",
        "\n",
        "この資料では、 Python の基礎的な文法を紹介する。\n",
        "\n",
        "## リテラル (固定値)\n",
        "\n",
        "以下のようなリテラルが存在する。\n",
        "\n",
        "| 例              | 型                     | 値                      |\n",
        "|-----------------|------------------------|-------------------------|\n",
        "| `1`, `-50`      | `int` (符号付き整数)   | $1$, $-50$              |\n",
        "| `1.0`, `3.e-5`  | `float` (浮動小数点数) | $1$, $3 \\times 10^{-5}$ |\n",
        "| `True`, `False` | `bool` (論理型)        | 真, 偽                  |\n",
        "| `\"a\"`, `\"abc\"`  | `str` (文字列型)       | “a”, “abc”              |\n",
        "\n",
        "各リテラルの型は以下のように確認出来る。"
      ],
      "id": "0e4d6e4e-171f-4c50-b85d-7142c4687c29"
    },
    {
      "cell_type": "code",
      "execution_count": null,
      "metadata": {},
      "outputs": [],
      "source": [
        "type(3.14)"
      ],
      "id": "442c99c6"
    },
    {
      "cell_type": "code",
      "execution_count": null,
      "metadata": {},
      "outputs": [],
      "source": [
        "type(\"Hello!\")"
      ],
      "id": "168ce878"
    },
    {
      "cell_type": "markdown",
      "metadata": {},
      "source": [
        "複数行の文字列リテラルは以下のように書くことも出来る。"
      ],
      "id": "077f9294-16c6-4145-907a-63ba656d2afe"
    },
    {
      "cell_type": "code",
      "execution_count": null,
      "metadata": {},
      "outputs": [],
      "source": [
        "\"\"\"\n",
        "これは\n",
        "複数行の\n",
        "文字列です\n",
        "\"\"\""
      ],
      "id": "77802dff"
    },
    {
      "cell_type": "markdown",
      "metadata": {},
      "source": [
        "## `print` 文\n",
        "\n",
        "C言語のコード\n",
        "\n",
        "``` c\n",
        "printf(\"Hello World\\n\");\n",
        "```\n",
        "\n",
        "に相当するPythonのコードは以下のようになる。\n",
        "\n",
        "``` python\n",
        "print(\"Hello World\")\n",
        "```\n",
        "\n",
        "末尾の改行文字 `\\n` は不要である。"
      ],
      "id": "6f492281-7949-4913-a7fc-5f788793d736"
    },
    {
      "cell_type": "code",
      "execution_count": null,
      "metadata": {},
      "outputs": [],
      "source": [
        "print(\"This is 1st line.\")\n",
        "print(\"This is 2nd line.\")"
      ],
      "id": "8ea1eb81"
    },
    {
      "cell_type": "markdown",
      "metadata": {},
      "source": [
        "自動で型を認識して出力してくれる。改行文字などの特殊文字も利用出来る。"
      ],
      "id": "35081c23-e059-4a0b-90be-79a4e7bd373b"
    },
    {
      "cell_type": "code",
      "execution_count": null,
      "metadata": {},
      "outputs": [],
      "source": [
        "print(\"a = \", 1, \"\\nb = \", 3.14, \"\\ntype(b) = \", type(3.14))"
      ],
      "id": "09e340d4"
    },
    {
      "cell_type": "markdown",
      "metadata": {},
      "source": [
        "ここまで`print`文を使わなくても値が得られていたことを不思議に思うかもしれない。\n",
        "これは、セル内で最後に実行した文の返り値をNotebookが出力してくれるためである。"
      ],
      "id": "a4664b74-9f97-463b-b6da-9326a4c0395c"
    },
    {
      "cell_type": "code",
      "execution_count": null,
      "metadata": {},
      "outputs": [],
      "source": [
        "\"Hello World!\""
      ],
      "id": "72d0da82"
    },
    {
      "cell_type": "markdown",
      "metadata": {},
      "source": [
        "## 変数の定義\n",
        "\n",
        "C言語のコード\n",
        "\n",
        "``` c\n",
        "int n = 128;\n",
        "double pi = 3.14;\n",
        "char text[] = \"Hello\";\n",
        "```\n",
        "\n",
        "に対応するPythonコードは\n",
        "\n",
        "``` python\n",
        "n = 128\n",
        "pi = 3.14\n",
        "text = \"Hello\"\n",
        "```\n",
        "\n",
        "である。\n",
        "Pythonでは型は明示的に指定する必要はなく、実行時に動的に判断される。\n",
        "\n",
        "同じ変数名を異なる意味で使い回すことも出来るが、バグの元なので避けるべきである。"
      ],
      "id": "9ab49ef2-a9ed-489d-b003-fd8b2b7079ba"
    },
    {
      "cell_type": "code",
      "execution_count": null,
      "metadata": {},
      "outputs": [],
      "source": [
        "a = 1\n",
        "print(a)\n",
        "a = 3.14\n",
        "print(a)\n",
        "a = \"Hello\"\n",
        "print(a)"
      ],
      "id": "4c95290c"
    },
    {
      "cell_type": "markdown",
      "metadata": {},
      "source": [
        "## コメント"
      ],
      "id": "2889017d-a0e0-42bc-9c3b-c5455122509e"
    },
    {
      "cell_type": "code",
      "execution_count": null,
      "metadata": {},
      "outputs": [],
      "source": [
        "# この行はコメント\n",
        "print(1)  # 行の途中からでもコメントになる"
      ],
      "id": "182f397d"
    },
    {
      "cell_type": "markdown",
      "metadata": {},
      "source": [
        "## 各種演算子\n",
        "\n",
        "変数やリテラルは、それぞれの型に対応した演算子が定義されている。\n",
        "以下にこのコースでよく使うものを示す。"
      ],
      "id": "803b8cc7-0b27-4232-8ff5-c8552a12ff4f"
    },
    {
      "cell_type": "code",
      "execution_count": null,
      "metadata": {},
      "outputs": [],
      "source": [
        "print(1 + 2 * 3 - 4)  # 加減乗\n",
        "print(4 / 3, 4 // 3)  # int型への除算 / は float に変換される。切り捨ては // を使う。\n",
        "print(2.0**3)  # べき乗\n",
        "print(3**2 == 9, 3 < 2, 4 <= 4)  # 比較"
      ],
      "id": "a6486903"
    },
    {
      "cell_type": "markdown",
      "metadata": {},
      "source": [
        "ここで、`#` 以降はコメント文として扱われる。\n",
        "\n",
        "## 条件分岐\n",
        "\n",
        "`if` 文を用いて以下のように書ける。"
      ],
      "id": "937a611b-09db-42f8-a174-2a1afc100431"
    },
    {
      "cell_type": "code",
      "execution_count": null,
      "metadata": {},
      "outputs": [],
      "source": [
        "price_apple = 150  # りんご 1 個あたり 150 円\n",
        "price_banana = 200  # バナナ 1 個あたり 200 円\n",
        "if price_apple < price_banana:\n",
        "    print(\"りんごが安い\")\n",
        "else:\n",
        "    print(\"バナナが安い\")"
      ],
      "id": "1d0dc1f1"
    },
    {
      "cell_type": "markdown",
      "metadata": {},
      "source": [
        "ここで注意したいのが、Pythonにおけるインデントの重要性である。\n",
        "例えば、上のコードを以下のように書くとエラー (`IndentationError`)\n",
        "になる。\n",
        "\n",
        "``` python\n",
        "if (price_apple < price_banana):\n",
        "print(\"りんごが安い\")\n",
        "else:\n",
        "print(\"バナナが安い\")\n",
        "```\n",
        "\n",
        "また、同じインデントは同じコードブロックと認識され、1つのまとまりとして処理される。"
      ],
      "id": "d770c08b-f969-4b42-890c-46c13fd2c234"
    },
    {
      "cell_type": "code",
      "execution_count": null,
      "metadata": {},
      "outputs": [],
      "source": [
        "price_apple = 150  # りんご 1 個あたり 150 円\n",
        "price_banana = 200  # バナナ 1 個あたり 200 円\n",
        "if price_apple < price_banana:\n",
        "    print(\"りんごが安い\")\n",
        "    print(\"りんごが安い\")\n",
        "    print(\"りんごが安い\")\n",
        "else:\n",
        "    print(\"バナナが安い\")\n",
        "    print(\"バナナが安い\")\n",
        "    print(\"バナナが安い\")"
      ],
      "id": "a2718faa"
    },
    {
      "cell_type": "markdown",
      "metadata": {},
      "source": [
        "## 繰り返し\n",
        "\n",
        "`for` 文を用いて以下のように書ける。"
      ],
      "id": "7e19d157-8501-4ae9-8e35-cb8bae52ef91"
    },
    {
      "cell_type": "code",
      "execution_count": null,
      "metadata": {},
      "outputs": [],
      "source": [
        "for i in range(0, 3):\n",
        "    print(i)"
      ],
      "id": "1ae3e3f5"
    },
    {
      "cell_type": "markdown",
      "metadata": {},
      "source": [
        "ここで、`i == 3` の場合は実行されないことに注意する。\n",
        "`range(start, stop, step)`\n",
        "は組み込み関数で、順序付きの整数の並びを生成する。\n",
        "\n",
        "-   `start`: どこから始めるか\n",
        "-   `stop`: どこで終わるか\n",
        "-   `step`: いくつづつ増やすか (省略時は `1`)\n",
        "\n",
        "上記のPythonコードを以下のC言語コードに対応する。\n",
        "\n",
        "``` c\n",
        "for (int i = 0; i < 3; ++i) {\n",
        "  printf(\"%d\\n\", i);\n",
        "}\n",
        "```\n",
        "\n",
        "`break` 文を使うと `for` 文を途中で停止出来る。"
      ],
      "id": "b57743f0-c6e3-4d7d-bc63-b39c9d21a2f3"
    },
    {
      "cell_type": "code",
      "execution_count": null,
      "metadata": {},
      "outputs": [],
      "source": [
        "for i in range(0, 10000):  # 何もしなければ 1 万回繰り返されるループ\n",
        "    print(i)\n",
        "    if i == 5:  # 変数 i の値が 5 に等しいとき次の文を実行\n",
        "        break  # break 文が実行されると for 文は終了"
      ],
      "id": "32f8eb29"
    },
    {
      "cell_type": "markdown",
      "metadata": {},
      "source": [
        "## 関数\n",
        "\n",
        "関数は以下のように定義出来る。"
      ],
      "id": "bc382cbc-52a5-485b-8b2b-7d9c448204f3"
    },
    {
      "cell_type": "code",
      "execution_count": null,
      "metadata": {},
      "outputs": [],
      "source": [
        "def add(a, b):\n",
        "    return a + b"
      ],
      "id": "6aa9e026"
    },
    {
      "cell_type": "markdown",
      "metadata": {},
      "source": [
        "定義した関数は以下のように呼び出せる。引数・返り値の型は実行時に判断される。"
      ],
      "id": "4b91050d-939c-49e8-a8e0-354e9e25ee9c"
    },
    {
      "cell_type": "code",
      "execution_count": null,
      "metadata": {},
      "outputs": [],
      "source": [
        "print(add(1, 2))\n",
        "print(add(3.0, -2.5))"
      ],
      "id": "ec974e08"
    },
    {
      "cell_type": "markdown",
      "metadata": {},
      "source": [
        "関数呼び出しでは、どの引数にどのリテラル・変数を対応させるかを明示的に指定できる。"
      ],
      "id": "7703e2be-9077-429b-b763-ab9de4dba65d"
    },
    {
      "cell_type": "code",
      "execution_count": null,
      "metadata": {},
      "outputs": [],
      "source": [
        "def sub(a, b):\n",
        "    return a - b\n",
        "\n",
        "\n",
        "print(sub(a=1, b=2))\n",
        "print(sub(b=-3.0, a=2.5))"
      ],
      "id": "bc750c95"
    },
    {
      "cell_type": "markdown",
      "metadata": {},
      "source": [
        "積極的に利用することで、引数が多い関数 (目安は4-5個以上)\n",
        "を呼び出す際にバグを減らすことができる。\n",
        "\n",
        "## 組み込みデータ構造\n",
        "\n",
        "Pythonには便利なデータ型が組み込まれている。 以下では `list` 型と `dict`\n",
        "型を紹介する。\n",
        "\n",
        "連結リストは `list` 型である。"
      ],
      "id": "6a6e0682-06f3-4ad0-bda0-efa46b953375"
    },
    {
      "cell_type": "code",
      "execution_count": null,
      "metadata": {},
      "outputs": [],
      "source": [
        "a = [1, 2, 3]\n",
        "print(a)\n",
        "\n",
        "a.append(4)\n",
        "print(a)\n",
        "\n",
        "a.clear()\n",
        "print(a)"
      ],
      "id": "89e36442"
    },
    {
      "cell_type": "markdown",
      "metadata": {},
      "source": [
        "`for` 文と組み合わせると便利に使える。"
      ],
      "id": "e883a61f-f4ba-45bc-8c35-71e23778ab74"
    },
    {
      "cell_type": "code",
      "execution_count": null,
      "metadata": {},
      "outputs": [],
      "source": [
        "b = [1, \"c\", 3.14]\n",
        "for e in b:\n",
        "    print(e)"
      ],
      "id": "02fc286b"
    },
    {
      "cell_type": "markdown",
      "metadata": {},
      "source": [
        "添字でアクセスすることも出来る。"
      ],
      "id": "872f481a-a64d-42ac-912e-28c97d44b706"
    },
    {
      "cell_type": "code",
      "execution_count": null,
      "metadata": {},
      "outputs": [],
      "source": [
        "for i in range(0, len(b)):  # len(b) は b の要素数を返す\n",
        "    print(i, b[i])"
      ],
      "id": "6b13f944"
    },
    {
      "cell_type": "markdown",
      "metadata": {},
      "source": [
        "`in` を使うと要素がリストに含まれるかを判別できる。"
      ],
      "id": "8b88ae6d-2a09-42f8-828a-bc20487039e7"
    },
    {
      "cell_type": "code",
      "execution_count": null,
      "metadata": {},
      "outputs": [],
      "source": [
        "print('a' in b)\n",
        "print('c' in b)\n",
        "print(1 in b)"
      ],
      "id": "775b0d44"
    },
    {
      "cell_type": "markdown",
      "metadata": {},
      "source": [
        "連想配列は `dict` 型 (辞書型)\n",
        "である。C言語の構造体の代わりにも使いやすい。"
      ],
      "id": "d821d162-5b38-4dcf-a199-0e7428cd4b19"
    },
    {
      "cell_type": "code",
      "execution_count": null,
      "metadata": {},
      "outputs": [],
      "source": [
        "d = {}\n",
        "d['a'] = 2\n",
        "d[2] = 5.14\n",
        "d[3.14] = \"pi\"\n",
        "print(d)"
      ],
      "id": "23e4a34b"
    },
    {
      "cell_type": "code",
      "execution_count": null,
      "metadata": {},
      "outputs": [],
      "source": [
        "print(d[3.14])\n",
        "print(d[2])"
      ],
      "id": "01b84664"
    },
    {
      "cell_type": "markdown",
      "metadata": {},
      "source": [
        "`for`文との組み合わせは、添字(キー)、値、その両者のそれぞれで3通りが代表的である。"
      ],
      "id": "8ecc4ce0-9f2e-472c-bb37-4bd227ef80ae"
    },
    {
      "cell_type": "code",
      "execution_count": null,
      "metadata": {},
      "outputs": [],
      "source": [
        "for key in d.keys():\n",
        "    print(key)"
      ],
      "id": "d69c3861"
    },
    {
      "cell_type": "code",
      "execution_count": null,
      "metadata": {},
      "outputs": [],
      "source": [
        "for value in d.values():\n",
        "    print(value)"
      ],
      "id": "304cda2e"
    },
    {
      "cell_type": "code",
      "execution_count": null,
      "metadata": {},
      "outputs": [],
      "source": [
        "for key, value in d.items():\n",
        "    print(key, value)"
      ],
      "id": "c4af9675"
    },
    {
      "cell_type": "markdown",
      "metadata": {},
      "source": [
        "## 練習\n",
        "\n",
        "フィボナッチ数列 $F_n$ は以下のように定義される。 $$\n",
        "F_0 = 0\n",
        "$$ $$\n",
        "F_1 = 1\n",
        "$$ $$\n",
        "F_n = F_{n-1} + F_{n-2}\\quad \\text{if }\\ \\ n \\ge 2\n",
        "$$ 引数 $n$ に対して $F_n$ を返す関数 `fib(n)` を実装せよ。"
      ],
      "id": "57f0f6b8-6e84-48ea-86e9-13a99cc3744d"
    },
    {
      "cell_type": "code",
      "execution_count": null,
      "metadata": {},
      "outputs": [],
      "source": [
        "# ここに自分の解答を入力"
      ],
      "id": "a1e65765"
    }
  ],
  "nbformat": 4,
  "nbformat_minor": 5,
  "metadata": {
    "kernelspec": {
      "name": "python3",
      "display_name": "Python 3 (ipykernel)",
      "language": "python",
      "path": "/Users/iijimahr/Work/skeletons/python_default/venv/share/jupyter/kernels/python3"
    }
  }
}