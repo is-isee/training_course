{
  "cells": [
    {
      "cell_type": "markdown",
      "metadata": {},
      "source": [
        "# Python 入門 – 基礎文法\n",
        "\n",
        "<figure>\n",
        "<a href=\"basic.ipynb\"><img\n",
        "src=\"https://colab.research.google.com/assets/colab-badge.svg\" /></a>\n",
        "<figcaption>open in colab</figcaption>\n",
        "</figure>\n",
        "\n",
        "この資料では、 Python の基礎的な文法を紹介する。\n",
        "\n",
        "## リテラル (固定値)\n",
        "\n",
        "以下のようなリテラルが存在する。\n",
        "\n",
        "| 例              | 型                     | 値                      |\n",
        "|-----------------|------------------------|-------------------------|\n",
        "| `1`, `-50`      | `int` (符号付き整数)   | $1$, $-50$              |\n",
        "| `1.0`, `3.e-5`  | `float` (浮動小数点数) | $1$, $3 \\times 10^{-5}$ |\n",
        "| `True`, `False` | `bool` (論理型)        | 真, 偽                  |\n",
        "| `\"a\"`, `\"abc\"`  | `str` (文字列型)       | “a”, “abc”              |\n",
        "\n",
        "各リテラルの型は以下のように確認出来る。"
      ],
      "id": "d6db1dbf-4dbb-43ce-a21a-d6f3282f0845"
    },
    {
      "cell_type": "code",
      "execution_count": null,
      "metadata": {},
      "outputs": [],
      "source": [
        "type(3.14)"
      ],
      "id": "11ca9b93"
    },
    {
      "cell_type": "code",
      "execution_count": null,
      "metadata": {},
      "outputs": [],
      "source": [
        "type(\"Hello!\")"
      ],
      "id": "bd710227"
    },
    {
      "cell_type": "markdown",
      "metadata": {},
      "source": [
        "複数行の文字列リテラルは以下のように書くことも出来る。"
      ],
      "id": "a65542f0-da8e-4154-a153-17845174c318"
    },
    {
      "cell_type": "code",
      "execution_count": null,
      "metadata": {},
      "outputs": [],
      "source": [
        "\"\"\"\n",
        "これは\n",
        "複数行の\n",
        "文字列です\n",
        "\"\"\""
      ],
      "id": "9b161340"
    },
    {
      "cell_type": "markdown",
      "metadata": {},
      "source": [
        "## `print` 文\n",
        "\n",
        "C言語のコード\n",
        "\n",
        "``` c\n",
        "printf(\"Hello World\\n\");\n",
        "```\n",
        "\n",
        "に相当するPythonのコードは以下のようになる。\n",
        "\n",
        "``` python\n",
        "print(\"Hello World\")\n",
        "```\n",
        "\n",
        "末尾の改行文字 `\\n` は不要である。"
      ],
      "id": "fe987337-5098-4c25-ad48-16e54593e92b"
    },
    {
      "cell_type": "code",
      "execution_count": null,
      "metadata": {},
      "outputs": [],
      "source": [
        "print(\"This is 1st line.\")\n",
        "print(\"This is 2nd line.\")"
      ],
      "id": "a0570ae9"
    },
    {
      "cell_type": "markdown",
      "metadata": {},
      "source": [
        "自動で型を認識して出力してくれる。改行文字などの特殊文字も利用出来る。"
      ],
      "id": "a25ccdea-3f76-4856-89ae-c5418cd0e4a9"
    },
    {
      "cell_type": "code",
      "execution_count": null,
      "metadata": {},
      "outputs": [],
      "source": [
        "print(\"a = \", 1, \"\\nb = \", 3.14, \"\\ntype(b) = \", type(3.14))"
      ],
      "id": "6d7536c0"
    },
    {
      "cell_type": "markdown",
      "metadata": {},
      "source": [
        "ここまで`print`文を使わなくても値が得られていたことを不思議に思うかもしれない。\n",
        "これは、セル内で最後に実行した文の返り値をNotebookが出力してくれるためである。"
      ],
      "id": "6013a1f2-1be2-4415-8fcf-b95e062d0b95"
    },
    {
      "cell_type": "code",
      "execution_count": null,
      "metadata": {},
      "outputs": [],
      "source": [
        "\"Hello World!\""
      ],
      "id": "5e2595a2"
    },
    {
      "cell_type": "markdown",
      "metadata": {},
      "source": [
        "## 変数の定義\n",
        "\n",
        "C言語のコード\n",
        "\n",
        "``` c\n",
        "int n = 128;\n",
        "double pi = 3.14;\n",
        "char text[] = \"Hello\";\n",
        "```\n",
        "\n",
        "に対応するPythonコードは\n",
        "\n",
        "``` python\n",
        "n = 128\n",
        "pi = 3.14\n",
        "text = \"Hello\"\n",
        "```\n",
        "\n",
        "である。\n",
        "Pythonでは型は明示的に指定する必要はなく、実行時に動的に判断される。\n",
        "\n",
        "同じ変数名を異なる意味で使い回すことも出来るが、バグの元なので避けるべきである。"
      ],
      "id": "56b1e545-6c54-420b-bb87-32a4ea0cc1e0"
    },
    {
      "cell_type": "code",
      "execution_count": null,
      "metadata": {},
      "outputs": [],
      "source": [
        "a = 1\n",
        "print(a)\n",
        "a = 3.14\n",
        "print(a)\n",
        "a = \"Hello\"\n",
        "print(a)"
      ],
      "id": "ff900e99"
    },
    {
      "cell_type": "markdown",
      "metadata": {},
      "source": [
        "## コメント"
      ],
      "id": "9faea24f-cacf-49cc-be78-56cb227bf657"
    },
    {
      "cell_type": "code",
      "execution_count": null,
      "metadata": {},
      "outputs": [],
      "source": [
        "# この行はコメント\n",
        "print(1)  # 行の途中からでもコメントになる"
      ],
      "id": "bacf89d3"
    },
    {
      "cell_type": "markdown",
      "metadata": {},
      "source": [
        "## 各種演算子\n",
        "\n",
        "変数やリテラルは、それぞれの型に対応した演算子が定義されている。\n",
        "以下にこのコースでよく使うものを示す。"
      ],
      "id": "4f53a492-c9df-4fa3-9c92-92917f41203c"
    },
    {
      "cell_type": "code",
      "execution_count": null,
      "metadata": {},
      "outputs": [],
      "source": [
        "print(1 + 2 * 3 - 4)  # 加減乗\n",
        "print(4 / 3, 4 // 3)  # int型への除算 / は float に変換される。切り捨ては // を使う。\n",
        "print(2.0**3)  # べき乗\n",
        "print(3**2 == 9, 3 < 2, 4 <= 4)  # 比較"
      ],
      "id": "dd9906cf"
    },
    {
      "cell_type": "markdown",
      "metadata": {},
      "source": [
        "ここで、`#` 以降はコメント文として扱われる。\n",
        "\n",
        "## 条件分岐\n",
        "\n",
        "`if` 文を用いて以下のように書ける。"
      ],
      "id": "965c9a96-292c-49b0-af6f-7993921ad23e"
    },
    {
      "cell_type": "code",
      "execution_count": null,
      "metadata": {},
      "outputs": [],
      "source": [
        "price_apple = 150  # りんご 1 個あたり 150 円\n",
        "price_banana = 200  # バナナ 1 個あたり 200 円\n",
        "if price_apple < price_banana:\n",
        "    print(\"りんごが安い\")\n",
        "else:\n",
        "    print(\"バナナが安い\")"
      ],
      "id": "1f0d5981"
    },
    {
      "cell_type": "markdown",
      "metadata": {},
      "source": [
        "ここで注意したいのが、Pythonにおけるインデントの重要性である。\n",
        "例えば、上のコードを以下のように書くとエラー (`IndentationError`)\n",
        "になる。\n",
        "\n",
        "``` python\n",
        "if (price_apple < price_banana):\n",
        "print(\"りんごが安い\")\n",
        "else:\n",
        "print(\"バナナが安い\")\n",
        "```\n",
        "\n",
        "また、同じインデントは同じコードブロックと認識され、1つのまとまりとして処理される。"
      ],
      "id": "557be4a2-b1f4-4571-b40e-2afacb7817a4"
    },
    {
      "cell_type": "code",
      "execution_count": null,
      "metadata": {},
      "outputs": [],
      "source": [
        "price_apple = 150  # りんご 1 個あたり 150 円\n",
        "price_banana = 200  # バナナ 1 個あたり 200 円\n",
        "if price_apple < price_banana:\n",
        "    print(\"りんごが安い\")\n",
        "    print(\"りんごが安い\")\n",
        "    print(\"りんごが安い\")\n",
        "else:\n",
        "    print(\"バナナが安い\")\n",
        "    print(\"バナナが安い\")\n",
        "    print(\"バナナが安い\")"
      ],
      "id": "adcaa4ef"
    },
    {
      "cell_type": "markdown",
      "metadata": {},
      "source": [
        "## 繰り返し\n",
        "\n",
        "`for` 文を用いて以下のように書ける。"
      ],
      "id": "e79027a4-468d-45e2-88ba-7d4c99c3dcd7"
    },
    {
      "cell_type": "code",
      "execution_count": null,
      "metadata": {},
      "outputs": [],
      "source": [
        "for i in range(0, 3):\n",
        "    print(i)"
      ],
      "id": "de70c36e"
    },
    {
      "cell_type": "markdown",
      "metadata": {},
      "source": [
        "ここで、`i == 3` の場合は実行されないことに注意する。\n",
        "`range(start, stop, step)`\n",
        "は組み込み関数で、順序付きの整数の並びを生成する。\n",
        "\n",
        "-   `start`: どこから始めるか\n",
        "-   `stop`: どこで終わるか\n",
        "-   `step`: いくつづつ増やすか (省略時は `1`)\n",
        "\n",
        "上記のPythonコードを以下のC言語コードに対応する。\n",
        "\n",
        "``` c\n",
        "for (int i = 0; i < 3; ++i) {\n",
        "  printf(\"%d\\n\", i);\n",
        "}\n",
        "```\n",
        "\n",
        "`break` 文を使うと `for` 文を途中で停止出来る。"
      ],
      "id": "91d7ebb9-3172-4627-8f4b-ad6810eab70d"
    },
    {
      "cell_type": "code",
      "execution_count": null,
      "metadata": {},
      "outputs": [],
      "source": [
        "for i in range(0, 10000):  # 何もしなければ 1 万回繰り返されるループ\n",
        "    print(i)\n",
        "    if i == 5:  # 変数 i の値が 5 に等しいとき次の文を実行\n",
        "        break  # break 文が実行されると for 文は終了"
      ],
      "id": "662178cc"
    },
    {
      "cell_type": "markdown",
      "metadata": {},
      "source": [
        "## 関数\n",
        "\n",
        "関数は以下のように定義出来る。"
      ],
      "id": "d6b134d5-68d9-4803-b2ca-d32dc259f799"
    },
    {
      "cell_type": "code",
      "execution_count": null,
      "metadata": {},
      "outputs": [],
      "source": [
        "def add(a, b):\n",
        "    return a + b"
      ],
      "id": "719a9cdf"
    },
    {
      "cell_type": "markdown",
      "metadata": {},
      "source": [
        "定義した関数は以下のように呼び出せる。引数・返り値の型は実行時に判断される。"
      ],
      "id": "e955e1fa-ce3d-4f8e-a8c3-6cc229794000"
    },
    {
      "cell_type": "code",
      "execution_count": null,
      "metadata": {},
      "outputs": [],
      "source": [
        "print(add(1, 2))\n",
        "print(add(3.0, -2.5))"
      ],
      "id": "73408d37"
    },
    {
      "cell_type": "markdown",
      "metadata": {},
      "source": [
        "関数呼び出しでは、どの引数にどのリテラル・変数を対応させるかを明示的に指定できる。"
      ],
      "id": "5bb7a6d1-12d0-45d0-8fc5-b69a43aacb1f"
    },
    {
      "cell_type": "code",
      "execution_count": null,
      "metadata": {},
      "outputs": [],
      "source": [
        "def sub(a, b):\n",
        "    return a - b\n",
        "\n",
        "\n",
        "print(sub(a=1, b=2))\n",
        "print(sub(b=-3.0, a=2.5))"
      ],
      "id": "f2e98b65"
    },
    {
      "cell_type": "markdown",
      "metadata": {},
      "source": [
        "積極的に利用することで、引数が多い関数 (目安は4-5個以上)\n",
        "を呼び出す際にバグを減らすことができる。\n",
        "\n",
        "## 組み込みデータ構造\n",
        "\n",
        "Pythonには便利なデータ型が組み込まれている。 以下では `list` 型と `dict`\n",
        "型を紹介する。\n",
        "\n",
        "連結リストは `list` 型である。"
      ],
      "id": "3c7a8885-3ded-4f99-b51e-9f336849ed8c"
    },
    {
      "cell_type": "code",
      "execution_count": null,
      "metadata": {},
      "outputs": [],
      "source": [
        "a = [1, 2, 3]\n",
        "print(a)\n",
        "\n",
        "a.append(4)\n",
        "print(a)\n",
        "\n",
        "a.clear()\n",
        "print(a)"
      ],
      "id": "4c062182"
    },
    {
      "cell_type": "markdown",
      "metadata": {},
      "source": [
        "`for` 文と組み合わせると便利に使える。"
      ],
      "id": "ac84d9e7-1fae-440f-96b6-26ddc11ed8f5"
    },
    {
      "cell_type": "code",
      "execution_count": null,
      "metadata": {},
      "outputs": [],
      "source": [
        "b = [1, \"c\", 3.14]\n",
        "for e in b:\n",
        "    print(e)"
      ],
      "id": "967c4e67"
    },
    {
      "cell_type": "markdown",
      "metadata": {},
      "source": [
        "添字でアクセスすることも出来る。"
      ],
      "id": "475f56d1-1d1c-4195-9201-7646bcac56c1"
    },
    {
      "cell_type": "code",
      "execution_count": null,
      "metadata": {},
      "outputs": [],
      "source": [
        "for i in range(0, len(b)):  # len(b) は b の要素数を返す\n",
        "    print(i, b[i])"
      ],
      "id": "e66ac502"
    },
    {
      "cell_type": "markdown",
      "metadata": {},
      "source": [
        "`in` を使うと要素がリストに含まれるかを判別できる。"
      ],
      "id": "86e23d67-9492-429f-9271-6842e9c857e1"
    },
    {
      "cell_type": "code",
      "execution_count": null,
      "metadata": {},
      "outputs": [],
      "source": [
        "print('a' in b)\n",
        "print('c' in b)\n",
        "print(1 in b)"
      ],
      "id": "21e5c421"
    },
    {
      "cell_type": "markdown",
      "metadata": {},
      "source": [
        "連想配列は `dict` 型 (辞書型)\n",
        "である。C言語の構造体の代わりにも使いやすい。"
      ],
      "id": "a8fd38eb-f200-42d3-a6c5-75a92b222481"
    },
    {
      "cell_type": "code",
      "execution_count": null,
      "metadata": {},
      "outputs": [],
      "source": [
        "d = {}\n",
        "d['a'] = 2\n",
        "d[2] = 5.14\n",
        "d[3.14] = \"pi\"\n",
        "print(d)"
      ],
      "id": "1d870911"
    },
    {
      "cell_type": "code",
      "execution_count": null,
      "metadata": {},
      "outputs": [],
      "source": [
        "print(d[3.14])\n",
        "print(d[2])"
      ],
      "id": "2c6c8e0d"
    },
    {
      "cell_type": "markdown",
      "metadata": {},
      "source": [
        "`for`文との組み合わせは、添字(キー)、値、その両者のそれぞれで3通りが代表的である。"
      ],
      "id": "234f2d1e-87b3-4529-b0a3-3f29a3e3b2f3"
    },
    {
      "cell_type": "code",
      "execution_count": null,
      "metadata": {},
      "outputs": [],
      "source": [
        "for key in d.keys():\n",
        "    print(key)"
      ],
      "id": "d0e17218"
    },
    {
      "cell_type": "code",
      "execution_count": null,
      "metadata": {},
      "outputs": [],
      "source": [
        "for value in d.values():\n",
        "    print(value)"
      ],
      "id": "359d3c0b"
    },
    {
      "cell_type": "code",
      "execution_count": null,
      "metadata": {},
      "outputs": [],
      "source": [
        "for key, value in d.items():\n",
        "    print(key, value)"
      ],
      "id": "89a90129"
    },
    {
      "cell_type": "markdown",
      "metadata": {},
      "source": [
        "## 練習\n",
        "\n",
        "フィボナッチ数列 $F_n$ は以下のように定義される。 $$\n",
        "F_0 = 0\n",
        "$$ $$\n",
        "F_1 = 1\n",
        "$$ $$\n",
        "F_n = F_{n-1} + F_{n-2}\\quad \\text{if }\\ \\ n \\ge 2\n",
        "$$ 引数 $n$ に対して $F_n$ を返す関数 `fib(n)` を実装せよ。"
      ],
      "id": "1a33c94d-f210-4f32-a729-f635a5c48334"
    },
    {
      "cell_type": "code",
      "execution_count": null,
      "metadata": {},
      "outputs": [],
      "source": [
        "# ここに自分の解答を入力"
      ],
      "id": "8c8a421b"
    }
  ],
  "nbformat": 4,
  "nbformat_minor": 5,
  "metadata": {
    "kernelspec": {
      "name": "python3",
      "display_name": "Python 3 (ipykernel)",
      "language": "python",
      "path": "/Users/iijimahr/Work/skeletons/python_default/venv/share/jupyter/kernels/python3"
    }
  }
}