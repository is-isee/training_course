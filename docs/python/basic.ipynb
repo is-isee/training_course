{
  "cells": [
    {
      "cell_type": "markdown",
      "metadata": {},
      "source": [
        "# Python 入門 – 基礎文法\n",
        "\n",
        "[![](https://colab.research.google.com/assets/colab-badge.svg)](https://colab.research.google.com/github/is-isee/training_course/blob/main/docs/python/basic.ipynb)\n",
        "\n",
        "この資料では、 Python の基礎的な文法を紹介する。\n",
        "\n",
        "## リテラル (固定値)\n",
        "\n",
        "以下のようなリテラルが存在する。\n",
        "\n",
        "| 例              | 型                     | 値                      |\n",
        "|-----------------|------------------------|-------------------------|\n",
        "| `1`, `-50`      | `int` (符号付き整数)   | $1$, $-50$              |\n",
        "| `1.0`, `3.e-5`  | `float` (浮動小数点数) | $1$, $3 \\times 10^{-5}$ |\n",
        "| `True`, `False` | `bool` (論理型)        | 真, 偽                  |\n",
        "| `\"a\"`, `\"abc\"`  | `str` (文字列型)       | “a”, “abc”              |\n",
        "\n",
        "各リテラルの型は以下のように確認出来る。"
      ],
      "id": "4b97a758-fac1-4333-aa24-e4a97137a954"
    },
    {
      "cell_type": "code",
      "execution_count": null,
      "metadata": {},
      "outputs": [],
      "source": [
        "type(3.14)"
      ],
      "id": "07f5b777"
    },
    {
      "cell_type": "code",
      "execution_count": null,
      "metadata": {},
      "outputs": [],
      "source": [
        "type(\"Hello!\")"
      ],
      "id": "da0922ef"
    },
    {
      "cell_type": "markdown",
      "metadata": {},
      "source": [
        "複数行の文字列リテラルは以下のように書くことも出来る。"
      ],
      "id": "e188a1b1-6ade-4b3a-a53d-9b4c1eed024b"
    },
    {
      "cell_type": "code",
      "execution_count": null,
      "metadata": {},
      "outputs": [],
      "source": [
        "\"\"\"\n",
        "これは\n",
        "複数行の\n",
        "文字列です\n",
        "\"\"\""
      ],
      "id": "f9f460e9"
    },
    {
      "cell_type": "markdown",
      "metadata": {},
      "source": [
        "## `print` 文\n",
        "\n",
        "C言語のコード\n",
        "\n",
        "``` c\n",
        "printf(\"Hello World\\n\");\n",
        "```\n",
        "\n",
        "に相当するPythonのコードは以下のようになる。\n",
        "\n",
        "``` python\n",
        "print(\"Hello World\")\n",
        "```\n",
        "\n",
        "末尾の改行文字 `\\n` は不要である。"
      ],
      "id": "08c62a98-2884-4cf8-b17d-3013fd178bd3"
    },
    {
      "cell_type": "code",
      "execution_count": null,
      "metadata": {},
      "outputs": [],
      "source": [
        "print(\"This is 1st line.\")\n",
        "print(\"This is 2nd line.\")"
      ],
      "id": "03513c36"
    },
    {
      "cell_type": "markdown",
      "metadata": {},
      "source": [
        "自動で型を認識して出力してくれる。改行文字などの特殊文字も利用出来る。"
      ],
      "id": "48b9df33-6feb-41b5-9493-a3b322a4e411"
    },
    {
      "cell_type": "code",
      "execution_count": null,
      "metadata": {},
      "outputs": [],
      "source": [
        "print(\"a = \", 1, \"\\nb = \", 3.14, \"\\ntype(b) = \", type(3.14))"
      ],
      "id": "bc3be20f"
    },
    {
      "cell_type": "markdown",
      "metadata": {},
      "source": [
        "ここまで`print`文を使わなくても値が得られていたことを不思議に思うかもしれない。\n",
        "これは、セル内で最後に実行した文の返り値をNotebookが出力してくれるためである。"
      ],
      "id": "8ef4c113-e1c0-43a0-aebb-f634b3aabedd"
    },
    {
      "cell_type": "code",
      "execution_count": null,
      "metadata": {},
      "outputs": [],
      "source": [
        "\"Hello World!\""
      ],
      "id": "99d90915"
    },
    {
      "cell_type": "markdown",
      "metadata": {},
      "source": [
        "## 変数の定義\n",
        "\n",
        "C言語のコード\n",
        "\n",
        "``` c\n",
        "int n = 128;\n",
        "double pi = 3.14;\n",
        "char text[] = \"Hello\";\n",
        "```\n",
        "\n",
        "に対応するPythonコードは\n",
        "\n",
        "``` python\n",
        "n = 128\n",
        "pi = 3.14\n",
        "text = \"Hello\"\n",
        "```\n",
        "\n",
        "である。\n",
        "Pythonでは型は明示的に指定する必要はなく、実行時に動的に判断される。\n",
        "\n",
        "同じ変数名を異なる意味で使い回すことも出来るが、バグの元なので避けるべきである。"
      ],
      "id": "7a6f9132-278b-47c4-8371-7cad718c7a1c"
    },
    {
      "cell_type": "code",
      "execution_count": null,
      "metadata": {},
      "outputs": [],
      "source": [
        "a = 1\n",
        "print(a)\n",
        "a = 3.14\n",
        "print(a)\n",
        "a = \"Hello\"\n",
        "print(a)"
      ],
      "id": "b4c56565"
    },
    {
      "cell_type": "markdown",
      "metadata": {},
      "source": [
        "## コメント"
      ],
      "id": "53c6e8f4-2af5-41f3-a179-cb866510d386"
    },
    {
      "cell_type": "code",
      "execution_count": null,
      "metadata": {},
      "outputs": [],
      "source": [
        "# この行はコメント\n",
        "print(1)  # 行の途中からでもコメントになる"
      ],
      "id": "81eec93b"
    },
    {
      "cell_type": "markdown",
      "metadata": {},
      "source": [
        "## 各種演算子\n",
        "\n",
        "変数やリテラルは、それぞれの型に対応した演算子が定義されている。\n",
        "以下にこのコースでよく使うものを示す。"
      ],
      "id": "8b7dd94f-0cde-48fa-a9b5-051476a73f33"
    },
    {
      "cell_type": "code",
      "execution_count": null,
      "metadata": {},
      "outputs": [],
      "source": [
        "print(1 + 2 * 3 - 4)  # 加減乗\n",
        "print(4 / 3, 4 // 3)  # int型への除算 / は float に変換される。切り捨ては // を使う。\n",
        "print(2.0**3)  # べき乗\n",
        "print(3**2 == 9, 3 < 2, 4 <= 4)  # 比較"
      ],
      "id": "e1cfe4c9"
    },
    {
      "cell_type": "markdown",
      "metadata": {},
      "source": [
        "ここで、`#` 以降はコメント文として扱われる。\n",
        "\n",
        "## 条件分岐\n",
        "\n",
        "`if` 文を用いて以下のように書ける。"
      ],
      "id": "343a579f-bd1a-4c7a-a65c-710b63759d36"
    },
    {
      "cell_type": "code",
      "execution_count": null,
      "metadata": {},
      "outputs": [],
      "source": [
        "price_apple = 150  # りんご 1 個あたり 150 円\n",
        "price_banana = 200  # バナナ 1 個あたり 200 円\n",
        "if price_apple < price_banana:\n",
        "    print(\"りんごが安い\")\n",
        "else:\n",
        "    print(\"バナナが安い\")"
      ],
      "id": "b3ffa52a"
    },
    {
      "cell_type": "markdown",
      "metadata": {},
      "source": [
        "ここで注意したいのが、Pythonにおけるインデントの重要性である。\n",
        "例えば、上のコードを以下のように書くとエラー (`IndentationError`)\n",
        "になる。\n",
        "\n",
        "``` python\n",
        "if (price_apple < price_banana):\n",
        "print(\"りんごが安い\")\n",
        "else:\n",
        "print(\"バナナが安い\")\n",
        "```\n",
        "\n",
        "また、同じインデントは同じコードブロックと認識され、1つのまとまりとして処理される。"
      ],
      "id": "cf6852c0-8512-4222-a168-fdfa0be796ce"
    },
    {
      "cell_type": "code",
      "execution_count": null,
      "metadata": {},
      "outputs": [],
      "source": [
        "price_apple = 150  # りんご 1 個あたり 150 円\n",
        "price_banana = 200  # バナナ 1 個あたり 200 円\n",
        "if price_apple < price_banana:\n",
        "    print(\"りんごが安い\")\n",
        "    print(\"りんごが安い\")\n",
        "    print(\"りんごが安い\")\n",
        "else:\n",
        "    print(\"バナナが安い\")\n",
        "    print(\"バナナが安い\")\n",
        "    print(\"バナナが安い\")"
      ],
      "id": "08a4e55d"
    },
    {
      "cell_type": "markdown",
      "metadata": {},
      "source": [
        "## 繰り返し\n",
        "\n",
        "`for` 文を用いて以下のように書ける。"
      ],
      "id": "63b50e33-de2e-415d-af27-d8960192d328"
    },
    {
      "cell_type": "code",
      "execution_count": null,
      "metadata": {},
      "outputs": [],
      "source": [
        "for i in range(0, 3):\n",
        "    print(i)"
      ],
      "id": "6326f41c"
    },
    {
      "cell_type": "markdown",
      "metadata": {},
      "source": [
        "ここで、`i == 3` の場合は実行されないことに注意する。\n",
        "`range(start, stop, step)`\n",
        "は組み込み関数で、順序付きの整数の並びを生成する。\n",
        "\n",
        "-   `start`: どこから始めるか\n",
        "-   `stop`: どこで終わるか\n",
        "-   `step`: いくつづつ増やすか (省略時は `1`)\n",
        "\n",
        "上記のPythonコードを以下のC言語コードに対応する。\n",
        "\n",
        "``` c\n",
        "for (int i = 0; i < 3; ++i) {\n",
        "  printf(\"%d\\n\", i);\n",
        "}\n",
        "```\n",
        "\n",
        "`break` 文を使うと `for` 文を途中で停止出来る。"
      ],
      "id": "b5fe1589-b098-44a9-ac2d-87bc3d3b8224"
    },
    {
      "cell_type": "code",
      "execution_count": null,
      "metadata": {},
      "outputs": [],
      "source": [
        "for i in range(0, 10000):  # 何もしなければ 1 万回繰り返されるループ\n",
        "    print(i)\n",
        "    if i == 5:  # 変数 i の値が 5 に等しいとき次の文を実行\n",
        "        break  # break 文が実行されると for 文は終了"
      ],
      "id": "48e762e7"
    },
    {
      "cell_type": "markdown",
      "metadata": {},
      "source": [
        "## 関数\n",
        "\n",
        "関数は以下のように定義出来る。"
      ],
      "id": "feddf47f-c22a-4a89-9278-d6c463c95de7"
    },
    {
      "cell_type": "code",
      "execution_count": null,
      "metadata": {},
      "outputs": [],
      "source": [
        "def add(a, b):\n",
        "    return a + b"
      ],
      "id": "e3abb483"
    },
    {
      "cell_type": "markdown",
      "metadata": {},
      "source": [
        "定義した関数は以下のように呼び出せる。引数・返り値の型は実行時に判断される。"
      ],
      "id": "8686943e-0320-429f-90b5-4db4c40c2169"
    },
    {
      "cell_type": "code",
      "execution_count": null,
      "metadata": {},
      "outputs": [],
      "source": [
        "print(add(1, 2))\n",
        "print(add(3.0, -2.5))"
      ],
      "id": "bef7d7d4"
    },
    {
      "cell_type": "markdown",
      "metadata": {},
      "source": [
        "関数呼び出しでは、どの引数にどのリテラル・変数を対応させるかを明示的に指定できる。"
      ],
      "id": "8050989b-a80e-41b7-8b0f-c254c956b21c"
    },
    {
      "cell_type": "code",
      "execution_count": null,
      "metadata": {},
      "outputs": [],
      "source": [
        "def sub(a, b):\n",
        "    return a - b\n",
        "\n",
        "\n",
        "print(sub(a=1, b=2))\n",
        "print(sub(b=-3.0, a=2.5))"
      ],
      "id": "8dec4b5b"
    },
    {
      "cell_type": "markdown",
      "metadata": {},
      "source": [
        "積極的に利用することで、引数が多い関数 (目安は4-5個以上)\n",
        "を呼び出す際にバグを減らすことができる。\n",
        "\n",
        "## 組み込みデータ構造\n",
        "\n",
        "Pythonには便利なデータ型が組み込まれている。 以下では `list` 型と `dict`\n",
        "型を紹介する。\n",
        "\n",
        "連結リストは `list` 型である。"
      ],
      "id": "5b26c30e-16fa-492f-9a41-923b407da68f"
    },
    {
      "cell_type": "code",
      "execution_count": null,
      "metadata": {},
      "outputs": [],
      "source": [
        "a = [1, 2, 3]\n",
        "print(a)\n",
        "\n",
        "a.append(4)\n",
        "print(a)\n",
        "\n",
        "a.clear()\n",
        "print(a)"
      ],
      "id": "39a65c4b"
    },
    {
      "cell_type": "markdown",
      "metadata": {},
      "source": [
        "`for` 文と組み合わせると便利に使える。"
      ],
      "id": "2b7578ac-5350-4ce4-b5bb-221c31edfa5a"
    },
    {
      "cell_type": "code",
      "execution_count": null,
      "metadata": {},
      "outputs": [],
      "source": [
        "b = [1, \"c\", 3.14]\n",
        "for e in b:\n",
        "    print(e)"
      ],
      "id": "5c063df5"
    },
    {
      "cell_type": "markdown",
      "metadata": {},
      "source": [
        "添字でアクセスすることも出来る。"
      ],
      "id": "3b30c22a-6029-45ab-a3a1-473c2269f89c"
    },
    {
      "cell_type": "code",
      "execution_count": null,
      "metadata": {},
      "outputs": [],
      "source": [
        "for i in range(0, len(b)):  # len(b) は b の要素数を返す\n",
        "    print(i, b[i])"
      ],
      "id": "fee7ea0b"
    },
    {
      "cell_type": "markdown",
      "metadata": {},
      "source": [
        "`in` を使うと要素がリストに含まれるかを判別できる。"
      ],
      "id": "aabfa757-bd0e-4b24-b941-9242d948c04e"
    },
    {
      "cell_type": "code",
      "execution_count": null,
      "metadata": {},
      "outputs": [],
      "source": [
        "print('a' in b)\n",
        "print('c' in b)\n",
        "print(1 in b)"
      ],
      "id": "4017ad83"
    },
    {
      "cell_type": "markdown",
      "metadata": {},
      "source": [
        "連想配列は `dict` 型 (辞書型)\n",
        "である。C言語の構造体の代わりにも使いやすい。"
      ],
      "id": "378993af-a107-4ec6-8e93-208bdc93bc8e"
    },
    {
      "cell_type": "code",
      "execution_count": null,
      "metadata": {},
      "outputs": [],
      "source": [
        "d = {}\n",
        "d['a'] = 2\n",
        "d[2] = 5.14\n",
        "d[3.14] = \"pi\"\n",
        "print(d)"
      ],
      "id": "2fa50df8"
    },
    {
      "cell_type": "code",
      "execution_count": null,
      "metadata": {},
      "outputs": [],
      "source": [
        "print(d[3.14])\n",
        "print(d[2])"
      ],
      "id": "9231772a"
    },
    {
      "cell_type": "markdown",
      "metadata": {},
      "source": [
        "`for`文との組み合わせは、添字(キー)、値、その両者のそれぞれで3通りが代表的である。"
      ],
      "id": "76e4cdd6-61f7-4e60-9c02-8f1c81660c0a"
    },
    {
      "cell_type": "code",
      "execution_count": null,
      "metadata": {},
      "outputs": [],
      "source": [
        "for key in d.keys():\n",
        "    print(key)"
      ],
      "id": "f78f99c6"
    },
    {
      "cell_type": "code",
      "execution_count": null,
      "metadata": {},
      "outputs": [],
      "source": [
        "for value in d.values():\n",
        "    print(value)"
      ],
      "id": "1948e4d7"
    },
    {
      "cell_type": "code",
      "execution_count": null,
      "metadata": {},
      "outputs": [],
      "source": [
        "for key, value in d.items():\n",
        "    print(key, value)"
      ],
      "id": "f9545af0"
    },
    {
      "cell_type": "markdown",
      "metadata": {},
      "source": [
        "## 演習: フィボナッチ数列の計算\n",
        "\n",
        "フィボナッチ数列 $F_n$ は以下のように定義される。 $$\n",
        "F_0 = 0\n",
        "$$ $$\n",
        "F_1 = 1\n",
        "$$ $$\n",
        "F_n = F_{n-1} + F_{n-2}\\quad \\text{if }\\ \\ n \\ge 2\n",
        "$$ 引数 $n$ に対して $F_n$ を返す関数 `fib(n)` を実装せよ。"
      ],
      "id": "287493e4-1f6d-4a6b-8ec3-a9cc48298a42"
    },
    {
      "cell_type": "code",
      "execution_count": null,
      "metadata": {},
      "outputs": [],
      "source": [
        "# ここに自分の解答を入力"
      ],
      "id": "dac77ff4"
    }
  ],
  "nbformat": 4,
  "nbformat_minor": 5,
  "metadata": {
    "kernelspec": {
      "name": "python3",
      "display_name": "Python 3 (ipykernel)",
      "language": "python",
      "path": "/Users/iijimahr/Work/skeletons/python_default/venv/share/jupyter/kernels/python3"
    }
  }
}