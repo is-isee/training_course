{
  "cells": [
    {
      "cell_type": "markdown",
      "metadata": {},
      "source": [
        "# Python 入門 – 基礎文法\n",
        "\n",
        "この資料では、 Python の基礎的な文法を紹介する。\n",
        "\n",
        "## リテラル (固定値)\n",
        "\n",
        "以下のようなリテラルが存在する。\n",
        "\n",
        "| 例              | 型                     | 値                      |\n",
        "|-----------------|------------------------|-------------------------|\n",
        "| `1`, `-50`      | `int` (符号付き整数)   | $1$, $-50$              |\n",
        "| `1.0`, `3.e-5`  | `float` (浮動小数点数) | $1$, $3 \\times 10^{-5}$ |\n",
        "| `True`, `False` | `bool` (論理型)        | 真, 偽                  |\n",
        "| `\"a\"`, `\"abc\"`  | `str` (文字列型)       | “a”, “abc”              |\n",
        "\n",
        "各リテラルの型は以下のように確認出来る。"
      ],
      "id": "e52b0f63-f049-4582-9bed-61551494b960"
    },
    {
      "cell_type": "code",
      "execution_count": null,
      "metadata": {},
      "outputs": [],
      "source": [
        "type(3.14)"
      ],
      "id": "f3d3b48a"
    },
    {
      "cell_type": "code",
      "execution_count": null,
      "metadata": {},
      "outputs": [],
      "source": [
        "type(\"Hello!\")"
      ],
      "id": "ca7a4c9c"
    },
    {
      "cell_type": "markdown",
      "metadata": {},
      "source": [
        "複数行の文字列リテラルは以下のように書くことも出来る。"
      ],
      "id": "ce3c2478-a9e5-4410-a204-94ba0eab35b3"
    },
    {
      "cell_type": "code",
      "execution_count": null,
      "metadata": {},
      "outputs": [],
      "source": [
        "\"\"\"\n",
        "これは\n",
        "複数行の\n",
        "文字列です\n",
        "\"\"\""
      ],
      "id": "eb36f755"
    },
    {
      "cell_type": "markdown",
      "metadata": {},
      "source": [
        "## `print` 文\n",
        "\n",
        "C言語のコード\n",
        "\n",
        "``` c\n",
        "printf(\"Hello World\\n\");\n",
        "```\n",
        "\n",
        "に相当するPythonのコードは以下のようになる。\n",
        "\n",
        "``` python\n",
        "print(\"Hello World\")\n",
        "```\n",
        "\n",
        "末尾の改行文字 `\\n` は不要である。"
      ],
      "id": "8a001291-13e3-43aa-8384-7a54154e32f7"
    },
    {
      "cell_type": "code",
      "execution_count": null,
      "metadata": {},
      "outputs": [],
      "source": [
        "print(\"This is 1st line.\")\n",
        "print(\"This is 2nd line.\")"
      ],
      "id": "7aa08a87"
    },
    {
      "cell_type": "markdown",
      "metadata": {},
      "source": [
        "自動で型を認識して出力してくれる。改行文字などの特殊文字も利用出来る。"
      ],
      "id": "dee387ed-269f-4310-8813-5dc61a0548ad"
    },
    {
      "cell_type": "code",
      "execution_count": null,
      "metadata": {},
      "outputs": [],
      "source": [
        "print(\"a = \", 1, \"\\nb = \", 3.14, \"\\ntype(b) = \", type(3.14))"
      ],
      "id": "022a8147"
    },
    {
      "cell_type": "markdown",
      "metadata": {},
      "source": [
        "ここまで`print`文を使わなくても値が得られていたことを不思議に思うかもしれない。\n",
        "これは、セル内で最後に実行した文の返り値をNotebookが出力してくれるためである。"
      ],
      "id": "26731c7a-7237-4cee-8616-9de470e21a80"
    },
    {
      "cell_type": "code",
      "execution_count": null,
      "metadata": {},
      "outputs": [],
      "source": [
        "\"Hello World!\""
      ],
      "id": "220786d8"
    },
    {
      "cell_type": "markdown",
      "metadata": {},
      "source": [
        "## 変数の定義\n",
        "\n",
        "C言語のコード\n",
        "\n",
        "``` c\n",
        "int n = 128;\n",
        "double pi = 3.14;\n",
        "char text[] = \"Hello\";\n",
        "```\n",
        "\n",
        "に対応するPythonコードは\n",
        "\n",
        "``` python\n",
        "n = 128\n",
        "pi = 3.14\n",
        "text = \"Hello\"\n",
        "```\n",
        "\n",
        "である。\n",
        "Pythonでは型は明示的に指定する必要はなく、実行時に動的に判断される。\n",
        "\n",
        "同じ変数名を異なる意味で使い回すことも出来るが、バグの元なので避けるべきである。"
      ],
      "id": "e1840303-c259-4915-95d3-e6aed0ea94c1"
    },
    {
      "cell_type": "code",
      "execution_count": null,
      "metadata": {},
      "outputs": [],
      "source": [
        "a = 1\n",
        "print(a)\n",
        "a = 3.14\n",
        "print(a)\n",
        "a = \"Hello\"\n",
        "print(a)"
      ],
      "id": "03d7cdf6"
    },
    {
      "cell_type": "markdown",
      "metadata": {},
      "source": [
        "## コメント"
      ],
      "id": "0c855864-0c8b-464d-b174-f852cc6c0702"
    },
    {
      "cell_type": "code",
      "execution_count": null,
      "metadata": {},
      "outputs": [],
      "source": [
        "# この行はコメント\n",
        "print(1)  # 行の途中からでもコメントになる"
      ],
      "id": "c693a89c"
    },
    {
      "cell_type": "markdown",
      "metadata": {},
      "source": [
        "## 各種演算子\n",
        "\n",
        "変数やリテラルは、それぞれの型に対応した演算子が定義されている。\n",
        "以下にこのコースでよく使うものを示す。"
      ],
      "id": "a32cb16a-b585-43c5-871d-6cfaa7b098d4"
    },
    {
      "cell_type": "code",
      "execution_count": null,
      "metadata": {},
      "outputs": [],
      "source": [
        "print(1 + 2 * 3 - 4)  # 加減乗\n",
        "print(4 / 3, 4 // 3)  # int型への除算 / は float に変換される。切り捨ては // を使う。\n",
        "print(2.0**3)  # べき乗\n",
        "print(3**2 == 9, 3 < 2, 4 <= 4)  # 比較"
      ],
      "id": "338019ce"
    },
    {
      "cell_type": "markdown",
      "metadata": {},
      "source": [
        "ここで、`#` 以降はコメント文として扱われる。\n",
        "\n",
        "## 条件分岐\n",
        "\n",
        "`if` 文を用いて以下のように書ける。"
      ],
      "id": "1f9ab4d9-207b-4bff-81b8-1bd98204b460"
    },
    {
      "cell_type": "code",
      "execution_count": null,
      "metadata": {},
      "outputs": [],
      "source": [
        "price_apple = 150  # りんご 1 個あたり 150 円\n",
        "price_banana = 200  # バナナ 1 個あたり 200 円\n",
        "if price_apple < price_banana:\n",
        "    print(\"りんごが安い\")\n",
        "else:\n",
        "    print(\"バナナが安い\")"
      ],
      "id": "e3f6320d"
    },
    {
      "cell_type": "markdown",
      "metadata": {},
      "source": [
        "ここで注意したいのが、Pythonにおけるインデントの重要性である。\n",
        "例えば、上のコードを以下のように書くとエラー (`IndentationError`)\n",
        "になる。\n",
        "\n",
        "``` python\n",
        "if (price_apple < price_banana):\n",
        "print(\"りんごが安い\")\n",
        "else:\n",
        "print(\"バナナが安い\")\n",
        "```\n",
        "\n",
        "また、同じインデントは同じコードブロックと認識され、1つのまとまりとして処理される。"
      ],
      "id": "7e4e9c39-1683-48bd-81e1-9ca793db3213"
    },
    {
      "cell_type": "code",
      "execution_count": null,
      "metadata": {},
      "outputs": [],
      "source": [
        "price_apple = 150  # りんご 1 個あたり 150 円\n",
        "price_banana = 200  # バナナ 1 個あたり 200 円\n",
        "if price_apple < price_banana:\n",
        "    print(\"りんごが安い\")\n",
        "    print(\"りんごが安い\")\n",
        "    print(\"りんごが安い\")\n",
        "else:\n",
        "    print(\"バナナが安い\")\n",
        "    print(\"バナナが安い\")\n",
        "    print(\"バナナが安い\")"
      ],
      "id": "ade9b0d8"
    },
    {
      "cell_type": "markdown",
      "metadata": {},
      "source": [
        "## 繰り返し\n",
        "\n",
        "`for` 文を用いて以下のように書ける。"
      ],
      "id": "f4925803-1d69-417c-97c1-d56b680753ae"
    },
    {
      "cell_type": "code",
      "execution_count": null,
      "metadata": {},
      "outputs": [],
      "source": [
        "for i in range(0, 3):\n",
        "    print(i)"
      ],
      "id": "fed9dc54"
    },
    {
      "cell_type": "markdown",
      "metadata": {},
      "source": [
        "ここで、`i == 3` の場合は実行されないことに注意する。\n",
        "`range(start, stop, step)`\n",
        "は組み込み関数で、順序付きの整数の並びを生成する。\n",
        "\n",
        "-   `start`: どこから始めるか\n",
        "-   `stop`: どこで終わるか\n",
        "-   `step`: いくつづつ増やすか (省略時は `1`)\n",
        "\n",
        "上記のPythonコードを以下のC言語コードに対応する。\n",
        "\n",
        "``` c\n",
        "for (int i = 0; i < 3; ++i) {\n",
        "  printf(\"%d\\n\", i);\n",
        "}\n",
        "```\n",
        "\n",
        "`break` 文を使うと `for` 文を途中で停止出来る。"
      ],
      "id": "2eaf37e2-c232-4435-9ad3-e0804f45c181"
    },
    {
      "cell_type": "code",
      "execution_count": null,
      "metadata": {},
      "outputs": [],
      "source": [
        "for i in range(0, 10000):  # 何もしなければ 1 万回繰り返されるループ\n",
        "    print(i)\n",
        "    if i == 5:  # 変数 i の値が 5 に等しいとき次の文を実行\n",
        "        break  # break 文が実行されると for 文は終了"
      ],
      "id": "e0397713"
    },
    {
      "cell_type": "markdown",
      "metadata": {},
      "source": [
        "## 関数\n",
        "\n",
        "関数は以下のように定義出来る。"
      ],
      "id": "6356ef4b-8951-4f4c-b6ab-512b557afd3a"
    },
    {
      "cell_type": "code",
      "execution_count": null,
      "metadata": {},
      "outputs": [],
      "source": [
        "def add(a, b):\n",
        "    return a + b"
      ],
      "id": "661946f9"
    },
    {
      "cell_type": "markdown",
      "metadata": {},
      "source": [
        "定義した関数は以下のように呼び出せる。引数・返り値の型は実行時に判断される。"
      ],
      "id": "282a880f-9c7c-42bc-9771-1f9d6df97c78"
    },
    {
      "cell_type": "code",
      "execution_count": null,
      "metadata": {},
      "outputs": [],
      "source": [
        "print(add(1, 2))\n",
        "print(add(3.0, -2.5))"
      ],
      "id": "0604ab8e"
    },
    {
      "cell_type": "markdown",
      "metadata": {},
      "source": [
        "関数呼び出しでは、どの引数にどのリテラル・変数を対応させるかを明示的に指定できる。"
      ],
      "id": "85cd8599-94ee-4c3e-8e77-aca7e7156d99"
    },
    {
      "cell_type": "code",
      "execution_count": null,
      "metadata": {},
      "outputs": [],
      "source": [
        "def sub(a, b):\n",
        "    return a - b\n",
        "\n",
        "\n",
        "print(sub(a=1, b=2))\n",
        "print(sub(b=-3.0, a=2.5))"
      ],
      "id": "23ff70d2"
    },
    {
      "cell_type": "markdown",
      "metadata": {},
      "source": [
        "積極的に利用することで、引数が多い関数 (目安は4-5個以上)\n",
        "を呼び出す際にバグを減らすことができる。\n",
        "\n",
        "## 組み込みデータ構造\n",
        "\n",
        "Pythonには便利なデータ型が組み込まれている。 以下では `list` 型と `dict`\n",
        "型を紹介する。\n",
        "\n",
        "連結リストは `list` 型である。"
      ],
      "id": "530c5d60-2f3d-42c9-8e31-12609046dcfb"
    },
    {
      "cell_type": "code",
      "execution_count": null,
      "metadata": {},
      "outputs": [],
      "source": [
        "a = [1, 2, 3]\n",
        "print(a)\n",
        "\n",
        "a.append(4)\n",
        "print(a)\n",
        "\n",
        "a.clear()\n",
        "print(a)"
      ],
      "id": "02a15a24"
    },
    {
      "cell_type": "markdown",
      "metadata": {},
      "source": [
        "`for` 文と組み合わせると便利に使える。"
      ],
      "id": "6c0387e2-2a3a-4a79-8add-3b990ea9dd2f"
    },
    {
      "cell_type": "code",
      "execution_count": null,
      "metadata": {},
      "outputs": [],
      "source": [
        "b = [1, \"c\", 3.14]\n",
        "for e in b:\n",
        "    print(e)"
      ],
      "id": "c0caf542"
    },
    {
      "cell_type": "markdown",
      "metadata": {},
      "source": [
        "添字でアクセスすることも出来る。"
      ],
      "id": "0d9d05fa-4190-47e0-a1ed-c7f45c1bafca"
    },
    {
      "cell_type": "code",
      "execution_count": null,
      "metadata": {},
      "outputs": [],
      "source": [
        "for i in range(0, len(b)):  # len(b) は b の要素数を返す\n",
        "    print(i, b[i])"
      ],
      "id": "c20a0c31"
    },
    {
      "cell_type": "markdown",
      "metadata": {},
      "source": [
        "`in` を使うと要素がリストに含まれるかを判別できる。"
      ],
      "id": "d76497d4-5798-4967-96de-6f60b91ea11b"
    },
    {
      "cell_type": "code",
      "execution_count": null,
      "metadata": {},
      "outputs": [],
      "source": [
        "print('a' in b)\n",
        "print('c' in b)\n",
        "print(1 in b)"
      ],
      "id": "f7b623d7"
    },
    {
      "cell_type": "markdown",
      "metadata": {},
      "source": [
        "連想配列は `dict` 型 (辞書型)\n",
        "である。C言語の構造体の代わりにも使いやすい。"
      ],
      "id": "1823517f-40e2-4962-811e-f270116f10b8"
    },
    {
      "cell_type": "code",
      "execution_count": null,
      "metadata": {},
      "outputs": [],
      "source": [
        "d = {}\n",
        "d['a'] = 2\n",
        "d[2] = 5.14\n",
        "d[3.14] = \"pi\"\n",
        "print(d)"
      ],
      "id": "062870f5"
    },
    {
      "cell_type": "code",
      "execution_count": null,
      "metadata": {},
      "outputs": [],
      "source": [
        "print(d[3.14])\n",
        "print(d[2])"
      ],
      "id": "1ebe26b2"
    },
    {
      "cell_type": "markdown",
      "metadata": {},
      "source": [
        "`for`文との組み合わせは、添字(キー)、値、その両者のそれぞれで3通りが代表的である。"
      ],
      "id": "5759dc28-674c-488c-b54e-4a76c26d0456"
    },
    {
      "cell_type": "code",
      "execution_count": null,
      "metadata": {},
      "outputs": [],
      "source": [
        "for key in d.keys():\n",
        "    print(key)"
      ],
      "id": "2d7b9dfa"
    },
    {
      "cell_type": "code",
      "execution_count": null,
      "metadata": {},
      "outputs": [],
      "source": [
        "for value in d.values():\n",
        "    print(value)"
      ],
      "id": "bee100f0"
    },
    {
      "cell_type": "code",
      "execution_count": null,
      "metadata": {},
      "outputs": [],
      "source": [
        "for key, value in d.items():\n",
        "    print(key, value)"
      ],
      "id": "b3893195"
    },
    {
      "cell_type": "markdown",
      "metadata": {},
      "source": [
        "## 練習\n",
        "\n",
        "フィボナッチ数列 $F_n$ は以下のように定義される。 $$\n",
        "F_0 = 0\n",
        "$$ $$\n",
        "F_1 = 1\n",
        "$$ $$\n",
        "F_n = F_{n-1} + F_{n-2}\\quad \\text{if }\\ \\ n \\ge 2\n",
        "$$ 引数 $n$ に対して $F_n$ を返す関数 `fib(n)` を実装せよ。"
      ],
      "id": "8f7788c1-bb47-4757-9ff2-fb0ce36a5908"
    },
    {
      "cell_type": "code",
      "execution_count": null,
      "metadata": {},
      "outputs": [],
      "source": [
        "# ここに自分の解答を入力"
      ],
      "id": "eacf6cf0"
    }
  ],
  "nbformat": 4,
  "nbformat_minor": 5,
  "metadata": {
    "kernelspec": {
      "name": "python3",
      "display_name": "Python 3 (ipykernel)",
      "language": "python",
      "path": "/Users/iijimahr/Work/skeletons/python_default/venv/share/jupyter/kernels/python3"
    }
  }
}