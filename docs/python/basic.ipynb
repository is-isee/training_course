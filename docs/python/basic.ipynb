{
  "cells": [
    {
      "cell_type": "markdown",
      "metadata": {},
      "source": [
        "# Python 入門 – 基礎文法\n",
        "\n",
        "この資料では、 Python の基礎的な文法を紹介する。\n",
        "\n",
        "## リテラル (固定値)\n",
        "\n",
        "以下のようなリテラルが存在する。\n",
        "\n",
        "| 例              | 型                     | 値                      |\n",
        "|-----------------|------------------------|-------------------------|\n",
        "| `1`, `-50`      | `int` (符号付き整数)   | $1$, $-50$              |\n",
        "| `1.0`, `3.e-5`  | `float` (浮動小数点数) | $1$, $3 \\times 10^{-5}$ |\n",
        "| `True`, `False` | `bool` (論理型)        | 真, 偽                  |\n",
        "| `\"a\"`, `\"abc\"`  | `str` (文字列型)       | “a”, “abc”              |\n",
        "\n",
        "各リテラルの型は以下のように確認出来る。"
      ],
      "id": "f9cb0c6c-0825-46cd-9829-a5cf6896cb4a"
    },
    {
      "cell_type": "code",
      "execution_count": null,
      "metadata": {},
      "outputs": [],
      "source": [
        "type(3.14)"
      ],
      "id": "8eb7c0c8"
    },
    {
      "cell_type": "code",
      "execution_count": null,
      "metadata": {},
      "outputs": [],
      "source": [
        "type(\"Hello!\")"
      ],
      "id": "44284e8e"
    },
    {
      "cell_type": "markdown",
      "metadata": {},
      "source": [
        "複数行の文字列リテラルは以下のように書くことも出来る。"
      ],
      "id": "79c3c5b1-6aac-460c-88e1-383b23d396a9"
    },
    {
      "cell_type": "code",
      "execution_count": null,
      "metadata": {},
      "outputs": [],
      "source": [
        "\"\"\"\n",
        "これは\n",
        "複数行の\n",
        "文字列です\n",
        "\"\"\""
      ],
      "id": "e38357bb"
    },
    {
      "cell_type": "markdown",
      "metadata": {},
      "source": [
        "## `print` 文\n",
        "\n",
        "C言語のコード\n",
        "\n",
        "``` c\n",
        "printf(\"Hello World\\n\");\n",
        "```\n",
        "\n",
        "に相当するPythonのコードは以下のようになる。\n",
        "\n",
        "``` python\n",
        "print(\"Hello World\")\n",
        "```\n",
        "\n",
        "末尾の改行文字 `\\n` は不要である。"
      ],
      "id": "52a34571-8ceb-442f-90f7-752a111224ae"
    },
    {
      "cell_type": "code",
      "execution_count": null,
      "metadata": {},
      "outputs": [],
      "source": [
        "print(\"This is 1st line.\")\n",
        "print(\"This is 2nd line.\")"
      ],
      "id": "6eb8a373"
    },
    {
      "cell_type": "markdown",
      "metadata": {},
      "source": [
        "自動で型を認識して出力してくれる。改行文字などの特殊文字も利用出来る。"
      ],
      "id": "5e98c9a7-ee74-454d-a263-a49750594912"
    },
    {
      "cell_type": "code",
      "execution_count": null,
      "metadata": {},
      "outputs": [],
      "source": [
        "print(\"a = \", 1, \"\\nb = \", 3.14, \"\\ntype(b) = \", type(3.14))"
      ],
      "id": "2a835f14"
    },
    {
      "cell_type": "markdown",
      "metadata": {},
      "source": [
        "ここまで`print`文を使わなくても値が得られていたことを不思議に思うかもしれない。\n",
        "これは、セル内で最後に実行した文の返り値をNotebookが出力してくれるためである。"
      ],
      "id": "599c844c-ecd3-4cb1-820e-2be15c970396"
    },
    {
      "cell_type": "code",
      "execution_count": null,
      "metadata": {},
      "outputs": [],
      "source": [
        "\"Hello World!\""
      ],
      "id": "ed984375"
    },
    {
      "cell_type": "markdown",
      "metadata": {},
      "source": [
        "## 変数の定義\n",
        "\n",
        "C言語のコード\n",
        "\n",
        "``` c\n",
        "int n = 128;\n",
        "double pi = 3.14;\n",
        "char text[] = \"Hello\";\n",
        "```\n",
        "\n",
        "に対応するPythonコードは\n",
        "\n",
        "``` python\n",
        "n = 128\n",
        "pi = 3.14\n",
        "text = \"Hello\"\n",
        "```\n",
        "\n",
        "である。\n",
        "Pythonでは型は明示的に指定する必要はなく、実行時に動的に判断される。\n",
        "\n",
        "同じ変数名を異なる意味で使い回すことも出来るが、バグの元なので避けるべきである。"
      ],
      "id": "93f5e248-a388-40b3-9cc4-85014a16ad6b"
    },
    {
      "cell_type": "code",
      "execution_count": null,
      "metadata": {},
      "outputs": [],
      "source": [
        "a = 1\n",
        "print(a)\n",
        "a = 3.14\n",
        "print(a)\n",
        "a = \"Hello\"\n",
        "print(a)"
      ],
      "id": "91ae61ce"
    },
    {
      "cell_type": "markdown",
      "metadata": {},
      "source": [
        "## コメント"
      ],
      "id": "749fa712-fcc8-4a5b-8e90-470fd227d66d"
    },
    {
      "cell_type": "code",
      "execution_count": null,
      "metadata": {},
      "outputs": [],
      "source": [
        "# この行はコメント\n",
        "print(1)  # 行の途中からでもコメントになる"
      ],
      "id": "1d3ad563"
    },
    {
      "cell_type": "markdown",
      "metadata": {},
      "source": [
        "## 各種演算子\n",
        "\n",
        "変数やリテラルは、それぞれの型に対応した演算子が定義されている。\n",
        "以下にこのコースでよく使うものを示す。"
      ],
      "id": "a0bdb0c5-e373-4ee6-a8c5-4ca8a99724a8"
    },
    {
      "cell_type": "code",
      "execution_count": null,
      "metadata": {},
      "outputs": [],
      "source": [
        "print(1 + 2 * 3 - 4)  # 加減乗\n",
        "print(4 / 3, 4 // 3)  # int型への除算 / は float に変換される。切り捨ては // を使う。\n",
        "print(2.0**3)  # べき乗\n",
        "print(3**2 == 9, 3 < 2, 4 <= 4)  # 比較"
      ],
      "id": "8e06280f"
    },
    {
      "cell_type": "markdown",
      "metadata": {},
      "source": [
        "ここで、`#` 以降はコメント文として扱われる。\n",
        "\n",
        "## 条件分岐\n",
        "\n",
        "`if` 文を用いて以下のように書ける。"
      ],
      "id": "0babc7e0-a3f5-424a-b75a-23e9b681eb5c"
    },
    {
      "cell_type": "code",
      "execution_count": null,
      "metadata": {},
      "outputs": [],
      "source": [
        "price_apple = 150  # りんご 1 個あたり 150 円\n",
        "price_banana = 200  # バナナ 1 個あたり 200 円\n",
        "if price_apple < price_banana:\n",
        "    print(\"りんごが安い\")\n",
        "else:\n",
        "    print(\"バナナが安い\")"
      ],
      "id": "fe5cecef"
    },
    {
      "cell_type": "markdown",
      "metadata": {},
      "source": [
        "ここで注意したいのが、Pythonにおけるインデントの重要性である。\n",
        "例えば、上のコードを以下のように書くとエラー (`IndentationError`)\n",
        "になる。\n",
        "\n",
        "``` python\n",
        "if (price_apple < price_banana):\n",
        "print(\"りんごが安い\")\n",
        "else:\n",
        "print(\"バナナが安い\")\n",
        "```\n",
        "\n",
        "また、同じインデントは同じコードブロックと認識され、1つのまとまりとして処理される。"
      ],
      "id": "5035c53f-f533-4000-a59b-8b8abadee300"
    },
    {
      "cell_type": "code",
      "execution_count": null,
      "metadata": {},
      "outputs": [],
      "source": [
        "price_apple = 150  # りんご 1 個あたり 150 円\n",
        "price_banana = 200  # バナナ 1 個あたり 200 円\n",
        "if price_apple < price_banana:\n",
        "    print(\"りんごが安い\")\n",
        "    print(\"りんごが安い\")\n",
        "    print(\"りんごが安い\")\n",
        "else:\n",
        "    print(\"バナナが安い\")\n",
        "    print(\"バナナが安い\")\n",
        "    print(\"バナナが安い\")"
      ],
      "id": "6e901179"
    },
    {
      "cell_type": "markdown",
      "metadata": {},
      "source": [
        "## 繰り返し\n",
        "\n",
        "`for` 文を用いて以下のように書ける。"
      ],
      "id": "a4220694-d502-4e36-b562-f7eca0868a87"
    },
    {
      "cell_type": "code",
      "execution_count": null,
      "metadata": {},
      "outputs": [],
      "source": [
        "for i in range(0, 3):\n",
        "    print(i)"
      ],
      "id": "cac8efab"
    },
    {
      "cell_type": "markdown",
      "metadata": {},
      "source": [
        "ここで、`i == 3` の場合は実行されないことに注意する。\n",
        "`range(start, stop, step)`\n",
        "は組み込み関数で、順序付きの整数の並びを生成する。\n",
        "\n",
        "-   `start`: どこから始めるか\n",
        "-   `stop`: どこで終わるか\n",
        "-   `step`: いくつづつ増やすか (省略時は `1`)\n",
        "\n",
        "上記のPythonコードを以下のC言語コードに対応する。\n",
        "\n",
        "``` c\n",
        "for (int i = 0; i < 3; ++i) {\n",
        "  printf(\"%d\\n\", i);\n",
        "}\n",
        "```\n",
        "\n",
        "`break` 文を使うと `for` 文を途中で停止出来る。"
      ],
      "id": "eddbd005-5c55-431f-ae9c-934475c70ff5"
    },
    {
      "cell_type": "code",
      "execution_count": null,
      "metadata": {},
      "outputs": [],
      "source": [
        "for i in range(0, 10000):  # 何もしなければ 1 万回繰り返されるループ\n",
        "    print(i)\n",
        "    if i == 5:  # 変数 i の値が 5 に等しいとき次の文を実行\n",
        "        break  # break 文が実行されると for 文は終了"
      ],
      "id": "2a20da31"
    },
    {
      "cell_type": "markdown",
      "metadata": {},
      "source": [
        "## 関数\n",
        "\n",
        "関数は以下のように定義出来る。"
      ],
      "id": "91d939f6-ee37-42b3-b4c3-ab14312957cd"
    },
    {
      "cell_type": "code",
      "execution_count": null,
      "metadata": {},
      "outputs": [],
      "source": [
        "def add(a, b):\n",
        "    return a + b"
      ],
      "id": "c740f7c9"
    },
    {
      "cell_type": "markdown",
      "metadata": {},
      "source": [
        "定義した関数は以下のように呼び出せる。引数・返り値の型は実行時に判断される。"
      ],
      "id": "00b85934-aa29-4779-bf87-e1d0b8bbd99e"
    },
    {
      "cell_type": "code",
      "execution_count": null,
      "metadata": {},
      "outputs": [],
      "source": [
        "print(add(1, 2))\n",
        "print(add(3.0, -2.5))"
      ],
      "id": "f7725d4a"
    },
    {
      "cell_type": "markdown",
      "metadata": {},
      "source": [
        "関数呼び出しでは、どの引数にどのリテラル・変数を対応させるかを明示的に指定できる。"
      ],
      "id": "f465ca8f-3553-4827-a5f3-97d8f415591b"
    },
    {
      "cell_type": "code",
      "execution_count": null,
      "metadata": {},
      "outputs": [],
      "source": [
        "def sub(a, b):\n",
        "    return a - b\n",
        "\n",
        "\n",
        "print(sub(a=1, b=2))\n",
        "print(sub(b=-3.0, a=2.5))"
      ],
      "id": "5232fe7e"
    },
    {
      "cell_type": "markdown",
      "metadata": {},
      "source": [
        "積極的に利用することで、引数が多い関数 (目安は4-5個以上)\n",
        "を呼び出す際にバグを減らすことができる。\n",
        "\n",
        "## 組み込みデータ構造\n",
        "\n",
        "Pythonには便利なデータ型が組み込まれている。 以下では `list` 型と `dict`\n",
        "型を紹介する。\n",
        "\n",
        "連結リストは `list` 型である。"
      ],
      "id": "12b78fc1-1b12-4315-92b0-d7d8fcc2072b"
    },
    {
      "cell_type": "code",
      "execution_count": null,
      "metadata": {},
      "outputs": [],
      "source": [
        "a = [1, 2, 3]\n",
        "print(a)\n",
        "\n",
        "a.append(4)\n",
        "print(a)\n",
        "\n",
        "a.clear()\n",
        "print(a)"
      ],
      "id": "d7c66b79"
    },
    {
      "cell_type": "markdown",
      "metadata": {},
      "source": [
        "`for` 文と組み合わせると便利に使える。"
      ],
      "id": "db24a028-b01e-418e-8e7a-c6e347cd1b2b"
    },
    {
      "cell_type": "code",
      "execution_count": null,
      "metadata": {},
      "outputs": [],
      "source": [
        "b = [1, \"c\", 3.14]\n",
        "for e in b:\n",
        "    print(e)"
      ],
      "id": "e3399755"
    },
    {
      "cell_type": "markdown",
      "metadata": {},
      "source": [
        "添字でアクセスすることも出来る。"
      ],
      "id": "e0b0a748-9959-4895-8bd4-a493bdccac92"
    },
    {
      "cell_type": "code",
      "execution_count": null,
      "metadata": {},
      "outputs": [],
      "source": [
        "for i in range(0, len(b)):  # len(b) は b の要素数を返す\n",
        "    print(i, b[i])"
      ],
      "id": "f6e68118"
    },
    {
      "cell_type": "markdown",
      "metadata": {},
      "source": [
        "`in` を使うと要素がリストに含まれるかを判別できる。"
      ],
      "id": "cf99ec3f-01e1-4a98-a789-3d2645c91ce8"
    },
    {
      "cell_type": "code",
      "execution_count": null,
      "metadata": {},
      "outputs": [],
      "source": [
        "print('a' in b)\n",
        "print('c' in b)\n",
        "print(1 in b)"
      ],
      "id": "fb599cb0"
    },
    {
      "cell_type": "markdown",
      "metadata": {},
      "source": [
        "連想配列は `dict` 型 (辞書型)\n",
        "である。C言語の構造体の代わりにも使いやすい。"
      ],
      "id": "b1caca6f-a445-4856-9583-c22b802c9455"
    },
    {
      "cell_type": "code",
      "execution_count": null,
      "metadata": {},
      "outputs": [],
      "source": [
        "d = {}\n",
        "d['a'] = 2\n",
        "d[2] = 5.14\n",
        "d[3.14] = \"pi\"\n",
        "print(d)"
      ],
      "id": "b69e6568"
    },
    {
      "cell_type": "code",
      "execution_count": null,
      "metadata": {},
      "outputs": [],
      "source": [
        "print(d[3.14])\n",
        "print(d[2])"
      ],
      "id": "0387df06"
    },
    {
      "cell_type": "markdown",
      "metadata": {},
      "source": [
        "`for`文との組み合わせは、添字(キー)、値、その両者のそれぞれで3通りが代表的である。"
      ],
      "id": "eb843d62-d39a-4717-9e14-9d9668ae025b"
    },
    {
      "cell_type": "code",
      "execution_count": null,
      "metadata": {},
      "outputs": [],
      "source": [
        "for key in d.keys():\n",
        "    print(key)"
      ],
      "id": "341c537f"
    },
    {
      "cell_type": "code",
      "execution_count": null,
      "metadata": {},
      "outputs": [],
      "source": [
        "for value in d.values():\n",
        "    print(value)"
      ],
      "id": "0c7373b6"
    },
    {
      "cell_type": "code",
      "execution_count": null,
      "metadata": {},
      "outputs": [],
      "source": [
        "for key, value in d.items():\n",
        "    print(key, value)"
      ],
      "id": "1aa0df0a"
    },
    {
      "cell_type": "markdown",
      "metadata": {},
      "source": [
        "## 練習\n",
        "\n",
        "フィボナッチ数列 $F_n$ は以下のように定義される。 $$\n",
        "F_0 = 0\n",
        "$$ $$\n",
        "F_1 = 1\n",
        "$$ $$\n",
        "F_n = F_{n-1} + F_{n-2}\\quad \\text{if }\\ \\ n \\ge 2\n",
        "$$ 引数 $n$ に対して $F_n$ を返す関数 `fib(n)` を実装せよ。"
      ],
      "id": "ef26a9ee-9d84-491f-bd9c-8d03f0b2d8ae"
    },
    {
      "cell_type": "code",
      "execution_count": null,
      "metadata": {},
      "outputs": [],
      "source": [
        "# ここに自分の解答を入力"
      ],
      "id": "7196f2ca"
    }
  ],
  "nbformat": 4,
  "nbformat_minor": 5,
  "metadata": {
    "kernelspec": {
      "name": "python3",
      "display_name": "Python 3 (ipykernel)",
      "language": "python",
      "path": "/Users/iijimahr/Work/skeletons/python_default/venv/share/jupyter/kernels/python3"
    }
  }
}