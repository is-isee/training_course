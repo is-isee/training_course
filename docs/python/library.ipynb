{
  "cells": [
    {
      "cell_type": "markdown",
      "metadata": {},
      "source": [
        "# Python のライブラリ\n",
        "\n",
        "[![](https://colab.research.google.com/assets/colab-badge.svg)](https://colab.research.google.com/github/is-isee/training_course/blob/main/docs/python/library.ipynb)\n",
        "\n",
        "Pythonを利用する最大の利点は、そのユーザー数と膨大なライブラリである。\n",
        "`import`\n",
        "文を使ってライブラリを呼び出すことで、各ライブラリが提供する様々な機能を利用することができる。\n",
        "\n",
        "## 用語の整理\n",
        "\n",
        "一言に Python\n",
        "の「ライブラリ」と言っても、実際にはいくつかの異なる概念を含んでいる。以下に一覧を示す。\n",
        "\n",
        "-   **モジュール (module)**: `xxx.py` の 1 ファイル 1\n",
        "    個。インポートすると、その **名前空間**\n",
        "    に定数・関数・クラスなどが配置される。\n",
        "-   **パッケージ (package)**: 階層構造を持つ\n",
        "    **モジュールの入れ物**。例えば、 `my_package/__init__.py`\n",
        "    を含むディレクトリ (名前空間パッケージ PEP 420 では `__init__.py`\n",
        "    が無くてもOK)。\n",
        "-   **ディストリビューション**: `pip install ...`\n",
        "    でインストールされるパッケージの配布単位。インポート名と異なる場合があるので注意（例:\n",
        "    `pip install pillow` だが `import PIL`）。\n",
        "-   **ライブラリ**: 上記の総称。何を指すのかは文脈による。\n",
        "-   **標準ライブラリ**: Python\n",
        "    本体に同梱され、追加インストール不要（`math`, `pathlib`, `functools`\n",
        "    など）なライブラリ群。\n",
        "\n",
        "## 数値計算ライブラリ NumPy\n",
        "\n",
        "[**NumPy**](https://numpy.org/doc/stable/user/) は Python\n",
        "で数値計算をする際の代表的なライブラリである。"
      ],
      "id": "cc2057d4-9328-43e4-bd28-c73305f87a04"
    },
    {
      "cell_type": "code",
      "execution_count": null,
      "metadata": {},
      "outputs": [],
      "source": [
        "import numpy  # NumPyを呼び出し\n",
        "\n",
        "print(numpy.pi)  # NumPyがもつ定数 pi (円周率) を出力"
      ],
      "id": "888e1c87"
    },
    {
      "cell_type": "code",
      "execution_count": null,
      "metadata": {},
      "outputs": [],
      "source": [
        "import numpy as np  # 毎回 numpy.pi と書くと大変なので、 np という別名をつけます\n",
        "\n",
        "print(np.pi)  # 実行結果は同じです"
      ],
      "id": "bf0b90c8"
    },
    {
      "cell_type": "markdown",
      "metadata": {},
      "source": [
        "各種初等関数も用意されている。"
      ],
      "id": "ba5adf89-6fdf-4466-acdf-641ab9bb7598"
    },
    {
      "cell_type": "code",
      "execution_count": null,
      "metadata": {},
      "outputs": [],
      "source": [
        "print(np.sin(0.5 * np.pi))\n",
        "print(np.cos(0.5 * np.pi))\n",
        "print(np.sqrt(2.0))\n",
        "print(np.exp(1.0))\n",
        "print(np.log(np.exp(1.0)))"
      ],
      "id": "b846e919"
    },
    {
      "cell_type": "markdown",
      "metadata": {},
      "source": [
        "NumPyが提供する最も重要な機能の一つは(多次元)配列である。\n",
        "1次元配列は以下のようにして確保できる。"
      ],
      "id": "a7eafaf3-42d2-4a0f-acd0-73cc6d329ec8"
    },
    {
      "cell_type": "code",
      "execution_count": null,
      "metadata": {},
      "outputs": [],
      "source": [
        "a = np.zeros(5)  # 長さ 5 の浮動小数点数配列 a の確保\n",
        "print(a)  # 値は全て 0 に初期化されている\n",
        "\n",
        "a[0] = 1.0  # 最初の要素に 1 を代入\n",
        "print(a)\n",
        "\n",
        "a[2] = 2.0  # 3 番目の要素に 2 を代入\n",
        "print(a)\n",
        "\n",
        "a[-1] = 3.0  # 最後の要素に 3 を代入\n",
        "print(a)"
      ],
      "id": "4ab17d6d"
    },
    {
      "cell_type": "code",
      "execution_count": null,
      "metadata": {},
      "outputs": [],
      "source": [
        "print(type(a))  # 型名\n",
        "print(len(a))  # 配列 a の長さ\n",
        "print(a.size)  # 配列 a の要素数"
      ],
      "id": "ea745a68"
    },
    {
      "cell_type": "markdown",
      "metadata": {},
      "source": [
        "`list` を `np.ndarray` に変換することも出来る。"
      ],
      "id": "1313b95c-bf38-4bb9-8ec9-75e5927ddf36"
    },
    {
      "cell_type": "code",
      "execution_count": null,
      "metadata": {},
      "outputs": [],
      "source": [
        "a = [1, 2, 3, 4]\n",
        "print(type(a))\n",
        "print(a)\n",
        "\n",
        "b = np.array(a)\n",
        "# b = np.array([1, 2, 3, 4]) のように直接配列確保・初期化することも可能\n",
        "print(type(b))\n",
        "print(b)"
      ],
      "id": "b3cc1903"
    },
    {
      "cell_type": "markdown",
      "metadata": {},
      "source": [
        "以下の例では、半径 `r` が 0 から 4\n",
        "まで変化するときに、その面積を配列に保存している。"
      ],
      "id": "7d84aa77-c68e-49d2-a9b5-ad38a0a7abda"
    },
    {
      "cell_type": "code",
      "execution_count": null,
      "metadata": {},
      "outputs": [],
      "source": [
        "n = 5\n",
        "area = np.zeros(n)\n",
        "\n",
        "for i in range(0, n):\n",
        "    area[i] = np.pi * i**2\n",
        "\n",
        "print(area)"
      ],
      "id": "596c65cb"
    },
    {
      "cell_type": "markdown",
      "metadata": {},
      "source": [
        "各要素ごとの演算は `for` 文を使わずに書くことも出来る。"
      ],
      "id": "36196bf2-d1db-430c-a873-a76b5e3afbfd"
    },
    {
      "cell_type": "code",
      "execution_count": null,
      "metadata": {},
      "outputs": [],
      "source": [
        "n = 5\n",
        "r = np.arange(n)  # r = np.array(range(0, n)) と同様\n",
        "\n",
        "area = np.pi * r**2\n",
        "print(area)"
      ],
      "id": "b8cb4683"
    },
    {
      "cell_type": "markdown",
      "metadata": {},
      "source": [
        "この演習では理解のしやすさのために `for`\n",
        "文を使って書いてある場合も多い。\n",
        "しかし、NumPyのライブラリ関数は内部的にコンパイル型言語で書くなど最適化が進んでおり、自分で\n",
        "`for` 文を書くよりはるかに高速な計算が出来る。\n",
        "プログラムの実行に時間がかかると感じたら `for`\n",
        "文に頼らない書き方を学ぶことをおすすめする。\n",
        "\n",
        "2次元配列は以下のように定義出来る。"
      ],
      "id": "36b95699-6dc1-4fd3-bad0-894e82e01005"
    },
    {
      "cell_type": "code",
      "execution_count": null,
      "metadata": {},
      "outputs": [],
      "source": [
        "a = np.zeros((3, 4))  # 大きさ 3 x 4 の2次元配列を確保\n",
        "print(a)\n",
        "\n",
        "a[0, 0] = 1.0\n",
        "a[1, 1] = 1.0\n",
        "a[2, 2] = 1.0\n",
        "a[2, 3] = 1.0\n",
        "print(a)"
      ],
      "id": "bd580017"
    },
    {
      "cell_type": "code",
      "execution_count": null,
      "metadata": {},
      "outputs": [],
      "source": [
        "print(a.ndim)  # 配列 a の次元数\n",
        "print(a.shape)  # 配列 a の形状\n",
        "print(len(a))  # 多次元配列 a の「最初の次元の」長さ (注意!)\n",
        "print(a.size)  # 配列 a の要素数"
      ],
      "id": "a6bec39c"
    },
    {
      "cell_type": "markdown",
      "metadata": {},
      "source": [
        "このコースでよく使う関数を挙げておこう。 `numpy.max` (`numpy.min`)\n",
        "は配列の各要素の最大値 (最小値) を返す関数である。"
      ],
      "id": "d1188826-d0dc-445b-90e9-497000c65856"
    },
    {
      "cell_type": "code",
      "execution_count": null,
      "metadata": {},
      "outputs": [],
      "source": [
        "a = np.array([1.0, 2.0, 3.0, 4.0, 5.0])\n",
        "print(np.max(a))"
      ],
      "id": "79d54bab"
    },
    {
      "cell_type": "markdown",
      "metadata": {},
      "source": [
        "`numpy.sum` は配列の総和を返す関数である。"
      ],
      "id": "09856692-46d1-46c4-9c4f-38c6067c83e9"
    },
    {
      "cell_type": "code",
      "execution_count": null,
      "metadata": {},
      "outputs": [],
      "source": [
        "a = np.array([1.0, 2.0, 3.0, 4.0, 5.0])\n",
        "print(np.sum(a))"
      ],
      "id": "d3e4c853"
    },
    {
      "cell_type": "markdown",
      "metadata": {},
      "source": [
        "座標を定義する場合などは、 `numpy.linspace` を使うと便利である。\n",
        "例えば、以下では区間 $-1 \\le x \\le 1$ を 11\n",
        "等分した配列を作る3通りの方法を示している。"
      ],
      "id": "318f1212-b281-479a-97da-9d1aea0c546a"
    },
    {
      "cell_type": "code",
      "execution_count": null,
      "metadata": {},
      "outputs": [],
      "source": [
        "# numpy.linspace を真似た関数\n",
        "def linspace(start, stop, num):\n",
        "    x = np.zeros(num)\n",
        "    for i in range(num):\n",
        "        x[i] = start + (stop - start) * i / (num - 1)\n",
        "    return x\n",
        "\n",
        "\n",
        "# 方法1: 自作関数を使う場合 (引数をキーワードで指定)\n",
        "x1 = linspace(start=-1.0, stop=1.0, num=11)\n",
        "\n",
        "# 方法2: 自作関数を使う場合 (引数を位置で指定)\n",
        "x2 = linspace(-1.0, 1.0, 11)\n",
        "\n",
        "# 方法3: numpy.linspace を使う場合\n",
        "x3 = np.linspace(start=-1.0, stop=1.0, num=11)\n",
        "# x3 = np.linspace(-1.0, 1.0, 11)  # これでもOK\n",
        "\n",
        "print(\"x1: \", x1)\n",
        "print(\"x2: \", x2)\n",
        "print(\"x3: \", x3)"
      ],
      "id": "43126a9b"
    },
    {
      "cell_type": "markdown",
      "metadata": {},
      "source": [
        "その他にも多くの機能があるため、[NumPyのドキュメント](https://numpy.org/doc/stable/user/)\n",
        "を参考にして各自調べて欲しい。\n",
        "\n",
        "## 可視化ライブラリ Matplotlib\n",
        "\n",
        "[**Matplotlib**](https://matplotlib.org/stable/users/)\n",
        "を使うと、データをグラフとして描画することができる。"
      ],
      "id": "75b44842-54c9-464e-bfcf-63062ae14948"
    },
    {
      "cell_type": "code",
      "execution_count": null,
      "metadata": {},
      "outputs": [],
      "source": [
        "# ライブラリ Matplotlib のインポート\n",
        "import matplotlib.pyplot as plt\n",
        "\n",
        "# x 座標の定義\n",
        "x = np.linspace(start=-2.0, stop=2.0, num=21)\n",
        "\n",
        "# y = x**2 の描画\n",
        "y = x**2\n",
        "plt.plot(x, y)\n",
        "plt.show()  # グラフを描画"
      ],
      "id": "025157d4"
    },
    {
      "cell_type": "markdown",
      "metadata": {},
      "source": [
        "Jupyter Notebook ではセルの区切りで自動で描画されるので、`plt.show()`\n",
        "が必ず必要な訳では無い。\n",
        "\n",
        "横軸や縦軸を対数にする場合、以下のようになる。"
      ],
      "id": "b4277050-cd20-47ea-8922-304524d76fb0"
    },
    {
      "cell_type": "code",
      "execution_count": null,
      "metadata": {},
      "outputs": [],
      "source": [
        "# x 座標の定義\n",
        "x = np.linspace(start=-2.0, stop=2.0, num=21)\n",
        "\n",
        "# y = exp(-x**2) の描画\n",
        "y = np.exp(-(x**2))\n",
        "plt.plot(x, y)\n",
        "plt.yscale(\"log\")  # y 軸を対数に変更\n",
        "plt.show()"
      ],
      "id": "cb2eec99"
    },
    {
      "cell_type": "markdown",
      "metadata": {},
      "source": [
        "複数の線を書き、それぞれにラベルを付けるなら以下のようになる。\n",
        "比較のために、定数を描画し、 $x$ 軸、 $y$ 軸の名前も付けてみよう。"
      ],
      "id": "97957683-038e-49c2-882c-0ddf657b127c"
    },
    {
      "cell_type": "code",
      "execution_count": null,
      "metadata": {},
      "outputs": [],
      "source": [
        "# x 座標の定義 (1.e-2 から 1.e2 まで、対数座標で等間隔に設定)\n",
        "log10_x = np.linspace(start=-4.0, stop=1.0, num=21)\n",
        "x = 10.0**log10_x\n",
        "\n",
        "# 関数の描画\n",
        "plt.plot(x, np.exp(x + 2), label=\"y = exp(x + 2)\")\n",
        "plt.plot(x, np.exp(-x + 2), label=\"y = exp(x**2 + 2)\")\n",
        "\n",
        "# 定数の描画\n",
        "plt.axhline(y=np.exp(2), color=\"gray\", linestyle=\"--\", label=\"y = 1\")\n",
        "plt.axvline(x=1.0, color=\"gray\", linestyle=\":\")  # label を指定しないと凡例なし\n",
        "\n",
        "# 関数や定数の凡例 (label=~ で指定したテキスト、ラベル) の出力\n",
        "plt.legend()\n",
        "\n",
        "# 軸のスケール変更\n",
        "plt.yscale(\"log\")  # y 軸を対数に変更\n",
        "plt.xscale(\"log\")  # x 軸を対数に変更\n",
        "\n",
        "# 軸の名前変更\n",
        "plt.xlabel(\"x\")  # x 軸に名前を設定\n",
        "plt.ylabel(\"y = exp(x + 2)\")  # y 軸に名前を設定\n",
        "\n",
        "plt.show()"
      ],
      "id": "fa5e35cb"
    },
    {
      "cell_type": "markdown",
      "metadata": {},
      "source": [
        "その他にも多くの機能があるため、[Matplotlibのドキュメント](https://matplotlib.org/stable/users/)\n",
        "を参考にして各自調べて欲しい。\n",
        "\n",
        "### 演習: グラフの描画\n",
        "\n",
        "1.  区間 $0 \\le x \\le 2\\pi$ を 100 分割し、配列 `x` を作成せよ。\n",
        "2.  配列 `y = np.sin(x)` を計算し、ラベルを `\"y = sin(x)\"`\n",
        "    としてグラフを描画せよ。\n",
        "3.  配列 `y = np.cos(x)` を計算し、ラベルを `\"y = cos(x)\"`\n",
        "    として重ねて描画せよ。\n",
        "4.  $y = \\pm 1$ および $x = \\pi$ の定数を重ねて描画せよ。"
      ],
      "id": "d3ec61c6-bbda-43f9-b6c7-e2c235fc365c"
    },
    {
      "cell_type": "code",
      "execution_count": null,
      "metadata": {},
      "outputs": [],
      "source": [
        "# ここに自分の解答を入力"
      ],
      "id": "b703de32"
    },
    {
      "cell_type": "markdown",
      "metadata": {},
      "source": [
        "## ヘルプとドキュメント\n",
        "\n",
        "Pythonでは `help`\n",
        "と呼ばれる組み込み関数により、関数や変数の利用方法に関するドキュメントを閲覧することが出来る。"
      ],
      "id": "7831787f-496c-49b9-9c22-8a67a06b99b0"
    },
    {
      "cell_type": "code",
      "execution_count": null,
      "metadata": {},
      "outputs": [],
      "source": [
        "help(print)"
      ],
      "id": "1bad1861"
    },
    {
      "cell_type": "markdown",
      "metadata": {},
      "source": [
        "[Pythonの公式ドキュメント](https://docs.python.org/ja/3/)は日本語でも整備されており、チュートリアルやライブラリリファレンスなどの網羅的な解説を閲覧出来る。\n",
        "同様に、\n",
        "[NumPy](https://numpy.org/doc/stable/user/)や[Matplotlib](https://matplotlib.org/stable/users/)などのライブラリも公式ドキュメントが整備されている。\n",
        "Pythonのライブラリは数多くあるがドキュメントの書かれ方はどれも同様である。\n",
        "実装に迷ったら適宜参照し、ドキュメントを読む力を養うと良い。\n",
        "\n",
        "## 演習: 浮動小数点\n",
        "\n",
        "Python公式ドキュメント内の[Python チュートリアル \\>\\> 15.\n",
        "浮動小数点演算、その問題と制限](https://docs.python.org/ja/3/tutorial/floatingpoint.html)を読み、`a = 1.0`\n",
        "と `b = 0.1 + 0.1 + 0.1 + 0.1 + 0.1 + 0.1 + 0.1 + 0.1 + 0.1 + 0.1`\n",
        "のそれぞれを、有効桁数20桁で出力せよ。"
      ],
      "id": "0925c945-168c-48ba-bf79-e8bdc63e30a2"
    },
    {
      "cell_type": "code",
      "execution_count": null,
      "metadata": {},
      "outputs": [],
      "source": [
        "# ここに自分の解答を入力"
      ],
      "id": "9767f845"
    }
  ],
  "nbformat": 4,
  "nbformat_minor": 5,
  "metadata": {
    "kernelspec": {
      "name": "python3",
      "display_name": "Python 3 (ipykernel)",
      "language": "python",
      "path": "/Users/iijimahr/Work/skeletons/python_default/venv/share/jupyter/kernels/python3"
    }
  }
}