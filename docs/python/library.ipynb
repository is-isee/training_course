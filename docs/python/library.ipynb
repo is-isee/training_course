{
  "cells": [
    {
      "cell_type": "markdown",
      "metadata": {},
      "source": [
        "# Python 入門 – ライブラリ\n",
        "\n",
        "Pythonには非常に様々なライブラリがある。 `import`\n",
        "文を使ってライブラリを呼び出すことで、各ライブラリが提供する様々な機能を利用することができる。\n",
        "\n",
        "## 数値計算ライブラリ NumPy\n",
        "\n",
        "[**NumPy**](https://numpy.org/doc/stable/user/) は Python\n",
        "で数値計算をする際の代表的なライブラリである。"
      ],
      "id": "873928b5-5b83-4c8e-9eda-9842d3dc1c21"
    },
    {
      "cell_type": "code",
      "execution_count": null,
      "metadata": {},
      "outputs": [],
      "source": [
        "import numpy  # NumPyを呼び出し\n",
        "\n",
        "print(numpy.pi)  # NumPyがもつ定数 pi (円周率) を出力"
      ],
      "id": "9834df3d"
    },
    {
      "cell_type": "code",
      "execution_count": null,
      "metadata": {},
      "outputs": [],
      "source": [
        "import numpy as np  # 毎回 numpy.pi と書くと大変なので、 np という別名をつけます\n",
        "\n",
        "print(np.pi)  # 実行結果は同じです"
      ],
      "id": "6fcc5845"
    },
    {
      "cell_type": "markdown",
      "metadata": {},
      "source": [
        "各種初等関数も用意されている。"
      ],
      "id": "c0ed154a-79e3-4cdc-b1b5-0744b6734f52"
    },
    {
      "cell_type": "code",
      "execution_count": null,
      "metadata": {},
      "outputs": [],
      "source": [
        "print(np.sin(0.5 * np.pi))\n",
        "print(np.cos(0.5 * np.pi))\n",
        "print(np.sqrt(2.0))\n",
        "print(np.exp(1.0))\n",
        "print(np.log(np.exp(1.0)))"
      ],
      "id": "cbd6e492"
    },
    {
      "cell_type": "markdown",
      "metadata": {},
      "source": [
        "NumPyが提供する最も重要な機能の一つは(多次元)配列である。\n",
        "1次元配列は以下のようにして確保できる。"
      ],
      "id": "bb23abd0-56b1-488d-868e-7c9e91661613"
    },
    {
      "cell_type": "code",
      "execution_count": null,
      "metadata": {},
      "outputs": [],
      "source": [
        "a = np.zeros(5)  # 長さ 5 の浮動小数点数配列 a の確保\n",
        "print(a)  # 値は全て 0 に初期化されている\n",
        "\n",
        "a[0] = 1.0  # 最初の要素に 1 を代入\n",
        "print(a)\n",
        "\n",
        "a[2] = 2.0  # 3 番目の要素に 2 を代入\n",
        "print(a)\n",
        "\n",
        "a[-1] = 3.0  # 最後の要素に 3 を代入\n",
        "print(a)"
      ],
      "id": "3e51fa9a"
    },
    {
      "cell_type": "code",
      "execution_count": null,
      "metadata": {},
      "outputs": [],
      "source": [
        "print(type(a))  # 型名\n",
        "print(len(a))  # 配列 a の長さ\n",
        "print(a.size)  # 配列 a の要素数"
      ],
      "id": "81a8e646"
    },
    {
      "cell_type": "markdown",
      "metadata": {},
      "source": [
        "`list` を `np.ndarray` に変換することも出来る。"
      ],
      "id": "ca8b10e7-522e-4640-958a-6ca8da032e64"
    },
    {
      "cell_type": "code",
      "execution_count": null,
      "metadata": {},
      "outputs": [],
      "source": [
        "a = [1, 2, 3, 4]\n",
        "print(type(a))\n",
        "print(a)\n",
        "\n",
        "b = np.array(a)\n",
        "# b = np.array([1, 2, 3, 4]) のように直接配列確保・初期化することも可能\n",
        "print(type(b))\n",
        "print(b)"
      ],
      "id": "d55c3e2e"
    },
    {
      "cell_type": "markdown",
      "metadata": {},
      "source": [
        "以下の例では、半径 `r` が 0 から 4\n",
        "まで変化するときに、その面積を配列に保存している。"
      ],
      "id": "5be18177-4d21-41f3-a02a-86a01e5c1717"
    },
    {
      "cell_type": "code",
      "execution_count": null,
      "metadata": {},
      "outputs": [],
      "source": [
        "n = 5\n",
        "area = np.zeros(n)\n",
        "\n",
        "for i in range(0, n):\n",
        "    area[i] = np.pi * i**2\n",
        "\n",
        "print(area)"
      ],
      "id": "ddc7c0ea"
    },
    {
      "cell_type": "markdown",
      "metadata": {},
      "source": [
        "各要素ごとの演算は `for` 文を使わずに書くことも出来る。"
      ],
      "id": "84e77564-42a7-4d5f-a19b-53f7e506fd9a"
    },
    {
      "cell_type": "code",
      "execution_count": null,
      "metadata": {},
      "outputs": [],
      "source": [
        "n = 5\n",
        "r = np.arange(n)  # r = np.array(range(0, n)) と同様\n",
        "\n",
        "area = np.pi * r**2\n",
        "print(area)"
      ],
      "id": "031f003a"
    },
    {
      "cell_type": "markdown",
      "metadata": {},
      "source": [
        "この演習では理解のしやすさのために `for`\n",
        "文を使って書いてある場合も多い。\n",
        "しかし、NumPyのライブラリ関数は内部的にコンパイル型言語で書くなど最適化が進んでおり、自分で\n",
        "`for` 文を書くよりはるかに高速な計算が出来る。\n",
        "プログラムの実行に時間がかかると感じたら `for`\n",
        "文に頼らない書き方を学ぶことをおすすめする。\n",
        "\n",
        "2次元配列は以下のように定義出来る。"
      ],
      "id": "aefc3ba1-49d1-4802-8c30-1d7a7e84a212"
    },
    {
      "cell_type": "code",
      "execution_count": null,
      "metadata": {},
      "outputs": [],
      "source": [
        "a = np.zeros((3, 4))  # 大きさ 3 x 4 の2次元配列を確保\n",
        "print(a)\n",
        "\n",
        "a[0, 0] = 1.0\n",
        "a[1, 1] = 1.0\n",
        "a[2, 2] = 1.0\n",
        "a[2, 3] = 1.0\n",
        "print(a)"
      ],
      "id": "f9e83748"
    },
    {
      "cell_type": "code",
      "execution_count": null,
      "metadata": {},
      "outputs": [],
      "source": [
        "print(a.ndim)  # 配列 a の次元数\n",
        "print(a.shape)  # 配列 a の形状\n",
        "print(len(a))  # 多次元配列 a の「最初の次元の」長さ (注意!)\n",
        "print(a.size)  # 配列 a の要素数"
      ],
      "id": "7488bca4"
    },
    {
      "cell_type": "markdown",
      "metadata": {},
      "source": [
        "このコースでよく使う関数を挙げておこう。 `numpy.max` (`numpy.min`)\n",
        "は配列の各要素の最大値 (最小値) を返す関数である。"
      ],
      "id": "82b93408-b874-41ff-9822-20d2465a7474"
    },
    {
      "cell_type": "code",
      "execution_count": null,
      "metadata": {},
      "outputs": [],
      "source": [
        "a = np.array([1.0, 2.0, 3.0, 4.0, 5.0])\n",
        "print(np.max(a))"
      ],
      "id": "0b885ce7"
    },
    {
      "cell_type": "markdown",
      "metadata": {},
      "source": [
        "`numpy.sum` は配列の総和を返す関数である。"
      ],
      "id": "c6d98011-49fd-4bc0-9b37-9846b3bf9190"
    },
    {
      "cell_type": "code",
      "execution_count": null,
      "metadata": {},
      "outputs": [],
      "source": [
        "a = np.array([1.0, 2.0, 3.0, 4.0, 5.0])\n",
        "print(np.sum(a))"
      ],
      "id": "d00c59a8"
    },
    {
      "cell_type": "markdown",
      "metadata": {},
      "source": [
        "座標を定義する場合などは、 `numpy.linspace` を使うと便利である。\n",
        "例えば、以下では区間 $-1 \\le x \\le 1$ を 11\n",
        "等分した配列を作る3通りの方法を示している。"
      ],
      "id": "7d35bf92-d660-4ec9-9a4f-dedb2777b4cf"
    },
    {
      "cell_type": "code",
      "execution_count": null,
      "metadata": {},
      "outputs": [],
      "source": [
        "# numpy.linspace を真似た関数\n",
        "def linspace(start, stop, num):\n",
        "    x = np.zeros(num)\n",
        "    for i in range(num):\n",
        "        x[i] = start + (stop - start) * i / (num - 1)\n",
        "    return x\n",
        "\n",
        "\n",
        "# 方法1: 自作関数を使う場合 (引数をキーワードで指定)\n",
        "x1 = linspace(start=-1.0, stop=1.0, num=11)\n",
        "\n",
        "# 方法2: 自作関数を使う場合 (引数を位置で指定)\n",
        "x2 = linspace(-1.0, 1.0, 11)\n",
        "\n",
        "# 方法3: numpy.linspace を使う場合\n",
        "x3 = np.linspace(start=-1.0, stop=1.0, num=11)\n",
        "# x3 = np.linspace(-1.0, 1.0, 11)  # これでもOK\n",
        "\n",
        "print(\"x1: \", x1)\n",
        "print(\"x2: \", x2)\n",
        "print(\"x3: \", x3)"
      ],
      "id": "aa0896b2"
    },
    {
      "cell_type": "markdown",
      "metadata": {},
      "source": [
        "その他にも多くの機能があるため、[NumPyのドキュメント](https://numpy.org/doc/stable/user/)\n",
        "を参考にして各自調べて欲しい。\n",
        "\n",
        "## 可視化ライブラリ Matplotlib\n",
        "\n",
        "[**Matplotlib**](https://matplotlib.org/stable/users/)\n",
        "を使うと、データをグラフとして描画することができる。"
      ],
      "id": "3d120075-3ace-44d3-93cb-b0f4ffb9132f"
    },
    {
      "cell_type": "code",
      "execution_count": null,
      "metadata": {},
      "outputs": [],
      "source": [
        "# ライブラリ Matplotlib のインポート\n",
        "import matplotlib.pyplot as plt\n",
        "\n",
        "# x 座標の定義\n",
        "x = np.linspace(start=-2.0, stop=2.0, num=21)\n",
        "\n",
        "# y = x**2 の描画\n",
        "y = x**2\n",
        "plt.plot(x, y)\n",
        "plt.show()  # グラフを描画"
      ],
      "id": "e5777324"
    },
    {
      "cell_type": "markdown",
      "metadata": {},
      "source": [
        "Jupyter Notebook ではセルの区切りで自動で描画されるので、`plt.show()`\n",
        "が必ず必要な訳では無い。\n",
        "\n",
        "横軸や縦軸を対数にする場合、以下のようになる。"
      ],
      "id": "76b83e64-8a17-4e82-bf2f-3797493ceb2a"
    },
    {
      "cell_type": "code",
      "execution_count": null,
      "metadata": {},
      "outputs": [],
      "source": [
        "# x 座標の定義\n",
        "x = np.linspace(start=-2.0, stop=2.0, num=21)\n",
        "\n",
        "# y = exp(-x**2) の描画\n",
        "y = np.exp(-(x**2))\n",
        "plt.plot(x, y)\n",
        "plt.yscale(\"log\")  # y 軸を対数に変更\n",
        "plt.show()"
      ],
      "id": "763bac72"
    },
    {
      "cell_type": "markdown",
      "metadata": {},
      "source": [
        "複数の線を書き、それぞれにラベルを付けるなら以下のようになる。\n",
        "比較のために、定数を描画し、 $x$ 軸、 $y$ 軸の名前も付けてみよう。"
      ],
      "id": "f25f1620-43cf-43ee-9ccf-52b438e59dfd"
    },
    {
      "cell_type": "code",
      "execution_count": null,
      "metadata": {},
      "outputs": [],
      "source": [
        "# x 座標の定義 (1.e-2 から 1.e2 まで、対数座標で等間隔に設定)\n",
        "log10_x = np.linspace(start=-4.0, stop=1.0, num=21)\n",
        "x = 10.0**log10_x\n",
        "\n",
        "# 関数の描画\n",
        "plt.plot(x, np.exp(x + 2), label=\"y = exp(x + 2)\")\n",
        "plt.plot(x, np.exp(-x + 2), label=\"y = exp(x**2 + 2)\")\n",
        "\n",
        "# 定数の描画\n",
        "plt.axhline(y=np.exp(2), color=\"gray\", linestyle=\"--\", label=\"y = 1\")\n",
        "plt.axvline(x=1.0, color=\"gray\", linestyle=\":\")  # label を指定しないと凡例なし\n",
        "\n",
        "# 関数や定数の凡例 (label=~ で指定したテキスト、ラベル) の出力\n",
        "plt.legend()\n",
        "\n",
        "# 軸のスケール変更\n",
        "plt.yscale(\"log\")  # y 軸を対数に変更\n",
        "plt.xscale(\"log\")  # x 軸を対数に変更\n",
        "\n",
        "# 軸の名前変更\n",
        "plt.xlabel(\"x\")  # x 軸に名前を設定\n",
        "plt.ylabel(\"y = exp(x + 2)\")  # y 軸に名前を設定\n",
        "\n",
        "plt.show()"
      ],
      "id": "90d7cd3a"
    },
    {
      "cell_type": "markdown",
      "metadata": {},
      "source": [
        "その他にも多くの機能があるため、[Matplotlibのドキュメント](https://matplotlib.org/stable/users/)\n",
        "を参考にして各自調べて欲しい。\n",
        "\n",
        "### 練習\n",
        "\n",
        "1.  区間 $0 \\le x \\le 2\\pi$ を 100 分割し、配列 `x` を作成せよ。\n",
        "2.  配列 `y = np.sin(x)` を計算し、ラベルを `\"y = sin(x)\"`\n",
        "    としてグラフを描画せよ。\n",
        "3.  配列 `y = np.cos(x)` を計算し、ラベルを `\"y = cos(x)\"`\n",
        "    として重ねて描画せよ。\n",
        "4.  $y = \\pm 1$ および $x = \\pi$ の定数を重ねて描画せよ。"
      ],
      "id": "fa15a718-6030-4947-b563-b10bdee86b30"
    },
    {
      "cell_type": "code",
      "execution_count": null,
      "metadata": {},
      "outputs": [],
      "source": [
        "# ここに自分の解答を入力"
      ],
      "id": "ffd07d52"
    },
    {
      "cell_type": "markdown",
      "metadata": {},
      "source": [
        "## ヘルプとドキュメント\n",
        "\n",
        "Pythonでは `help`\n",
        "と呼ばれる組み込み関数により、関数や変数の利用方法に関するドキュメントを閲覧することが出来る。"
      ],
      "id": "3eea5f37-bc63-45a7-be0c-6d8b97638bf7"
    },
    {
      "cell_type": "code",
      "execution_count": null,
      "metadata": {},
      "outputs": [],
      "source": [
        "help(print)"
      ],
      "id": "4e2819e7"
    },
    {
      "cell_type": "markdown",
      "metadata": {},
      "source": [
        "[Pythonの公式ドキュメント](https://docs.python.org/ja/3/)は日本語でも整備されており、チュートリアルやライブラリリファレンスなどの網羅的な解説を閲覧出来る。\n",
        "同様に、\n",
        "[NumPy](https://numpy.org/doc/stable/user/)や[Matplotlib](https://matplotlib.org/stable/users/)などのライブラリも公式ドキュメントが整備されている。\n",
        "Pythonのライブラリは数多くあるがドキュメントの書かれ方はどれも同様である。\n",
        "実装に迷ったら適宜参照し、ドキュメントを読む力を養うと良い。\n",
        "\n",
        "## 練習\n",
        "\n",
        "Python公式ドキュメント内の[Python チュートリアル \\>\\> 15.\n",
        "浮動小数点演算、その問題と制限](https://docs.python.org/ja/3/tutorial/floatingpoint.html)を読み、`a = 1.0`\n",
        "と `b = 0.1 + 0.1 + 0.1 + 0.1 + 0.1 + 0.1 + 0.1 + 0.1 + 0.1 + 0.1`\n",
        "のそれぞれを、有効桁数20桁で出力せよ。"
      ],
      "id": "644bf801-9b4f-481a-9c17-b6033dae6946"
    },
    {
      "cell_type": "code",
      "execution_count": null,
      "metadata": {},
      "outputs": [],
      "source": [
        "# ここに自分の解答を入力"
      ],
      "id": "faafaee1"
    }
  ],
  "nbformat": 4,
  "nbformat_minor": 5,
  "metadata": {
    "kernelspec": {
      "name": "python3",
      "display_name": "Python 3 (ipykernel)",
      "language": "python",
      "path": "/Users/iijimahr/Work/skeletons/python_default/venv/share/jupyter/kernels/python3"
    }
  }
}