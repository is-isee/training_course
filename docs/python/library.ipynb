{
  "cells": [
    {
      "cell_type": "markdown",
      "metadata": {},
      "source": [
        "# Python 入門 – ライブラリ\n",
        "\n",
        "Pythonには非常に様々なライブラリがある。 `import`\n",
        "文を使ってライブラリを呼び出すことで、各ライブラリが提供する様々な機能を利用することができる。\n",
        "\n",
        "## 数値計算ライブラリ NumPy\n",
        "\n",
        "[**NumPy**](https://numpy.org/doc/stable/user/) は Python\n",
        "で数値計算をする際の代表的なライブラリである。"
      ],
      "id": "fd8fc5c4-0e32-4123-9e1b-225f7c6939fe"
    },
    {
      "cell_type": "code",
      "execution_count": null,
      "metadata": {},
      "outputs": [],
      "source": [
        "import numpy  # NumPyを呼び出し\n",
        "\n",
        "print(numpy.pi)  # NumPyがもつ定数 pi (円周率) を出力"
      ],
      "id": "04f54250"
    },
    {
      "cell_type": "code",
      "execution_count": null,
      "metadata": {},
      "outputs": [],
      "source": [
        "import numpy as np  # 毎回 numpy.pi と書くと大変なので、 np という別名をつけます\n",
        "\n",
        "print(np.pi)  # 実行結果は同じです"
      ],
      "id": "a8092bb2"
    },
    {
      "cell_type": "markdown",
      "metadata": {},
      "source": [
        "各種初等関数も用意されている。"
      ],
      "id": "7222090f-291e-41e4-a22b-733da37d256f"
    },
    {
      "cell_type": "code",
      "execution_count": null,
      "metadata": {},
      "outputs": [],
      "source": [
        "print(np.sin(0.5 * np.pi))\n",
        "print(np.cos(0.5 * np.pi))\n",
        "print(np.sqrt(2.0))\n",
        "print(np.exp(1.0))\n",
        "print(np.log(np.exp(1.0)))"
      ],
      "id": "5b4eac5c"
    },
    {
      "cell_type": "markdown",
      "metadata": {},
      "source": [
        "NumPyが提供する最も重要な機能の一つは(多次元)配列である。\n",
        "1次元配列は以下のようにして確保できる。"
      ],
      "id": "4b2623cd-9cf9-4c65-8e3a-4dab93d384a7"
    },
    {
      "cell_type": "code",
      "execution_count": null,
      "metadata": {},
      "outputs": [],
      "source": [
        "a = np.zeros(5)  # 長さ 5 の浮動小数点数配列 a の確保\n",
        "print(a)  # 値は全て 0 に初期化されている\n",
        "\n",
        "a[0] = 1.0  # 最初の要素に 1 を代入\n",
        "print(a)\n",
        "\n",
        "a[2] = 2.0  # 3 番目の要素に 2 を代入\n",
        "print(a)\n",
        "\n",
        "a[-1] = 3.0  # 最後の要素に 3 を代入\n",
        "print(a)"
      ],
      "id": "baafa51b"
    },
    {
      "cell_type": "code",
      "execution_count": null,
      "metadata": {},
      "outputs": [],
      "source": [
        "print(type(a))  # 型名\n",
        "print(len(a))  # 配列 a の長さ\n",
        "print(a.size)  # 配列 a の要素数"
      ],
      "id": "4e4a94bc"
    },
    {
      "cell_type": "markdown",
      "metadata": {},
      "source": [
        "`list` を `np.ndarray` に変換することも出来る。"
      ],
      "id": "dee5a878-80fd-4bde-92e2-ffc1f93e0003"
    },
    {
      "cell_type": "code",
      "execution_count": null,
      "metadata": {},
      "outputs": [],
      "source": [
        "a = [1, 2, 3, 4]\n",
        "print(type(a))\n",
        "print(a)\n",
        "\n",
        "b = np.array(a)\n",
        "# b = np.array([1, 2, 3, 4]) のように直接配列確保・初期化することも可能\n",
        "print(type(b))\n",
        "print(b)"
      ],
      "id": "ac740ce4"
    },
    {
      "cell_type": "markdown",
      "metadata": {},
      "source": [
        "以下の例では、半径 `r` が 0 から 4\n",
        "まで変化するときに、その面積を配列に保存している。"
      ],
      "id": "94959ab2-aaf2-4489-8e0b-59ce90d9b100"
    },
    {
      "cell_type": "code",
      "execution_count": null,
      "metadata": {},
      "outputs": [],
      "source": [
        "n = 5\n",
        "area = np.zeros(n)\n",
        "\n",
        "for i in range(0, n):\n",
        "    area[i] = np.pi * i**2\n",
        "\n",
        "print(area)"
      ],
      "id": "fbcff717"
    },
    {
      "cell_type": "markdown",
      "metadata": {},
      "source": [
        "各要素ごとの演算は `for` 文を使わずに書くことも出来る。"
      ],
      "id": "3ff7eb88-5a7b-4c6e-bd58-17546eeb3f32"
    },
    {
      "cell_type": "code",
      "execution_count": null,
      "metadata": {},
      "outputs": [],
      "source": [
        "n = 5\n",
        "r = np.arange(n)  # r = np.array(range(0, n)) と同様\n",
        "\n",
        "area = np.pi * r**2\n",
        "print(area)"
      ],
      "id": "b928d897"
    },
    {
      "cell_type": "markdown",
      "metadata": {},
      "source": [
        "この演習では理解のしやすさのために `for`\n",
        "文を使って書いてある場合も多い。\n",
        "しかし、NumPyのライブラリ関数は内部的にコンパイル型言語で書くなど最適化が進んでおり、自分で\n",
        "`for` 文を書くよりはるかに高速な計算が出来る。\n",
        "プログラムの実行に時間がかかると感じたら `for`\n",
        "文に頼らない書き方を学ぶことをおすすめする。\n",
        "\n",
        "2次元配列は以下のように定義出来る。"
      ],
      "id": "34311546-ee3c-40da-91df-919bc31600b2"
    },
    {
      "cell_type": "code",
      "execution_count": null,
      "metadata": {},
      "outputs": [],
      "source": [
        "a = np.zeros((3, 4))  # 大きさ 3 x 4 の2次元配列を確保\n",
        "print(a)\n",
        "\n",
        "a[0, 0] = 1.0\n",
        "a[1, 1] = 1.0\n",
        "a[2, 2] = 1.0\n",
        "a[2, 3] = 1.0\n",
        "print(a)"
      ],
      "id": "68883158"
    },
    {
      "cell_type": "code",
      "execution_count": null,
      "metadata": {},
      "outputs": [],
      "source": [
        "print(a.ndim)  # 配列 a の次元数\n",
        "print(a.shape)  # 配列 a の形状\n",
        "print(len(a))  # 多次元配列 a の「最初の次元の」長さ (注意!)\n",
        "print(a.size)  # 配列 a の要素数"
      ],
      "id": "3857e691"
    },
    {
      "cell_type": "markdown",
      "metadata": {},
      "source": [
        "このコースでよく使う関数を挙げておこう。 `numpy.max` (`numpy.min`)\n",
        "は配列の各要素の最大値 (最小値) を返す関数である。"
      ],
      "id": "b549a739-d496-4b6e-90c0-4f7616ed2e04"
    },
    {
      "cell_type": "code",
      "execution_count": null,
      "metadata": {},
      "outputs": [],
      "source": [
        "a = np.array([1.0, 2.0, 3.0, 4.0, 5.0])\n",
        "print(np.max(a))"
      ],
      "id": "78924355"
    },
    {
      "cell_type": "markdown",
      "metadata": {},
      "source": [
        "`numpy.sum` は配列の総和を返す関数である。"
      ],
      "id": "baea09e6-9491-400e-86e0-eb9a98536fd0"
    },
    {
      "cell_type": "code",
      "execution_count": null,
      "metadata": {},
      "outputs": [],
      "source": [
        "a = np.array([1.0, 2.0, 3.0, 4.0, 5.0])\n",
        "print(np.sum(a))"
      ],
      "id": "40d43734"
    },
    {
      "cell_type": "markdown",
      "metadata": {},
      "source": [
        "座標を定義する場合などは、 `numpy.linspace` を使うと便利である。\n",
        "例えば、以下では区間 $-1 \\le x \\le 1$ を 11\n",
        "等分した配列を作る3通りの方法を示している。"
      ],
      "id": "0ac45bd8-dbd3-4198-bf28-8f253742f31a"
    },
    {
      "cell_type": "code",
      "execution_count": null,
      "metadata": {},
      "outputs": [],
      "source": [
        "# numpy.linspace を真似た関数\n",
        "def linspace(start, stop, num):\n",
        "    x = np.zeros(num)\n",
        "    for i in range(num):\n",
        "        x[i] = start + (stop - start) * i / (num - 1)\n",
        "    return x\n",
        "\n",
        "\n",
        "# 方法1: 自作関数を使う場合 (引数をキーワードで指定)\n",
        "x1 = linspace(start=-1.0, stop=1.0, num=11)\n",
        "\n",
        "# 方法2: 自作関数を使う場合 (引数を位置で指定)\n",
        "x2 = linspace(-1.0, 1.0, 11)\n",
        "\n",
        "# 方法3: numpy.linspace を使う場合\n",
        "x3 = np.linspace(start=-1.0, stop=1.0, num=11)\n",
        "# x3 = np.linspace(-1.0, 1.0, 11)  # これでもOK\n",
        "\n",
        "print(\"x1: \", x1)\n",
        "print(\"x2: \", x2)\n",
        "print(\"x3: \", x3)"
      ],
      "id": "1bce6ee8"
    },
    {
      "cell_type": "markdown",
      "metadata": {},
      "source": [
        "その他にも多くの機能があるため、[NumPyのドキュメント](https://numpy.org/doc/stable/user/)\n",
        "を参考にして各自調べて欲しい。\n",
        "\n",
        "## 可視化ライブラリ Matplotlib\n",
        "\n",
        "[**Matplotlib**](https://matplotlib.org/stable/users/)\n",
        "を使うと、データをグラフとして描画することができる。"
      ],
      "id": "7e3e4a0a-a2d7-4428-8c4a-a9b9e1a272f2"
    },
    {
      "cell_type": "code",
      "execution_count": null,
      "metadata": {},
      "outputs": [],
      "source": [
        "# ライブラリ Matplotlib のインポート\n",
        "import matplotlib.pyplot as plt\n",
        "\n",
        "# x 座標の定義\n",
        "x = np.linspace(start=-2.0, stop=2.0, num=21)\n",
        "\n",
        "# y = x**2 の描画\n",
        "y = x**2\n",
        "plt.plot(x, y)\n",
        "plt.show()  # グラフを描画"
      ],
      "id": "c9f4690e"
    },
    {
      "cell_type": "markdown",
      "metadata": {},
      "source": [
        "Jupyter Notebook ではセルの区切りで自動で描画されるので、`plt.show()`\n",
        "が必ず必要な訳では無い。\n",
        "\n",
        "横軸や縦軸を対数にする場合、以下のようになる。"
      ],
      "id": "152f1d6d-2cbd-4c46-8677-dde7312032ab"
    },
    {
      "cell_type": "code",
      "execution_count": null,
      "metadata": {},
      "outputs": [],
      "source": [
        "# x 座標の定義\n",
        "x = np.linspace(start=-2.0, stop=2.0, num=21)\n",
        "\n",
        "# y = exp(-x**2) の描画\n",
        "y = np.exp(-(x**2))\n",
        "plt.plot(x, y)\n",
        "plt.yscale(\"log\")  # y 軸を対数に変更\n",
        "plt.show()"
      ],
      "id": "69c40f93"
    },
    {
      "cell_type": "markdown",
      "metadata": {},
      "source": [
        "複数の線を書き、それぞれにラベルを付けるなら以下のようになる。\n",
        "比較のために、定数を描画し、 $x$ 軸、 $y$ 軸の名前も付けてみよう。"
      ],
      "id": "7489b765-f97b-4e04-90ff-83b47ade792d"
    },
    {
      "cell_type": "code",
      "execution_count": null,
      "metadata": {},
      "outputs": [],
      "source": [
        "# x 座標の定義 (1.e-2 から 1.e2 まで、対数座標で等間隔に設定)\n",
        "log10_x = np.linspace(start=-4.0, stop=1.0, num=21)\n",
        "x = 10.0**log10_x\n",
        "\n",
        "# 関数の描画\n",
        "plt.plot(x, np.exp(x + 2), label=\"y = exp(x + 2)\")\n",
        "plt.plot(x, np.exp(-x + 2), label=\"y = exp(x**2 + 2)\")\n",
        "\n",
        "# 定数の描画\n",
        "plt.axhline(y=np.exp(2), color=\"gray\", linestyle=\"--\", label=\"y = 1\")\n",
        "plt.axvline(x=1.0, color=\"gray\", linestyle=\":\")  # label を指定しないと凡例なし\n",
        "\n",
        "# 関数や定数の凡例 (label=~ で指定したテキスト、ラベル) の出力\n",
        "plt.legend()\n",
        "\n",
        "# 軸のスケール変更\n",
        "plt.yscale(\"log\")  # y 軸を対数に変更\n",
        "plt.xscale(\"log\")  # x 軸を対数に変更\n",
        "\n",
        "# 軸の名前変更\n",
        "plt.xlabel(\"x\")  # x 軸に名前を設定\n",
        "plt.ylabel(\"y = exp(x + 2)\")  # y 軸に名前を設定\n",
        "\n",
        "plt.show()"
      ],
      "id": "a1a400de"
    },
    {
      "cell_type": "markdown",
      "metadata": {},
      "source": [
        "その他にも多くの機能があるため、[Matplotlibのドキュメント](https://matplotlib.org/stable/users/)\n",
        "を参考にして各自調べて欲しい。\n",
        "\n",
        "### 練習\n",
        "\n",
        "1.  区間 $0 \\le x \\le 2\\pi$ を 100 分割し、配列 `x` を作成せよ。\n",
        "2.  配列 `y = np.sin(x)` を計算し、ラベルを `\"y = sin(x)\"`\n",
        "    としてグラフを描画せよ。\n",
        "3.  配列 `y = np.cos(x)` を計算し、ラベルを `\"y = cos(x)\"`\n",
        "    として重ねて描画せよ。\n",
        "4.  $y = \\pm 1$ および $x = \\pi$ の定数を重ねて描画せよ。"
      ],
      "id": "e1831ba4-8863-4f7c-a7e5-ccbfa38f5fbd"
    },
    {
      "cell_type": "code",
      "execution_count": null,
      "metadata": {},
      "outputs": [],
      "source": [
        "# ここに自分の解答を入力"
      ],
      "id": "c69b922a"
    },
    {
      "cell_type": "markdown",
      "metadata": {},
      "source": [
        "## ヘルプとドキュメント\n",
        "\n",
        "Pythonでは `help`\n",
        "と呼ばれる組み込み関数により、関数や変数の利用方法に関するドキュメントを閲覧することが出来る。"
      ],
      "id": "94096211-8160-4ee2-a6f4-132350ab6744"
    },
    {
      "cell_type": "code",
      "execution_count": null,
      "metadata": {},
      "outputs": [],
      "source": [
        "help(print)"
      ],
      "id": "b198c483"
    },
    {
      "cell_type": "markdown",
      "metadata": {},
      "source": [
        "[Pythonの公式ドキュメント](https://docs.python.org/ja/3/)は日本語でも整備されており、チュートリアルやライブラリリファレンスなどの網羅的な解説を閲覧出来る。\n",
        "同様に、\n",
        "[NumPy](https://numpy.org/doc/stable/user/)や[Matplotlib](https://matplotlib.org/stable/users/)などのライブラリも公式ドキュメントが整備されている。\n",
        "Pythonのライブラリは数多くあるがドキュメントの書かれ方はどれも同様である。\n",
        "実装に迷ったら適宜参照し、ドキュメントを読む力を養うと良い。\n",
        "\n",
        "## 練習\n",
        "\n",
        "Python公式ドキュメント内の[Python チュートリアル \\>\\> 15.\n",
        "浮動小数点演算、その問題と制限](https://docs.python.org/ja/3/tutorial/floatingpoint.html)を読み、`a = 1.0`\n",
        "と `b = 0.1 + 0.1 + 0.1 + 0.1 + 0.1 + 0.1 + 0.1 + 0.1 + 0.1 + 0.1`\n",
        "のそれぞれを、有効桁数20桁で出力せよ。"
      ],
      "id": "15161188-2848-4bd2-bf22-6debe05ca8e2"
    },
    {
      "cell_type": "code",
      "execution_count": null,
      "metadata": {},
      "outputs": [],
      "source": [
        "# ここに自分の解答を入力"
      ],
      "id": "08439ca2"
    }
  ],
  "nbformat": 4,
  "nbformat_minor": 5,
  "metadata": {
    "kernelspec": {
      "name": "python3",
      "display_name": "Python 3 (ipykernel)",
      "language": "python",
      "path": "/Users/iijimahr/Work/skeletons/python_default/venv/share/jupyter/kernels/python3"
    }
  }
}